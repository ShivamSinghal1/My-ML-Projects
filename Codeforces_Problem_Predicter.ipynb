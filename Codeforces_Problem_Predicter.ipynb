{
  "nbformat": 4,
  "nbformat_minor": 0,
  "metadata": {
    "colab": {
      "name": "Codeforces Problem Predicter.ipynb",
      "provenance": [],
      "collapsed_sections": [],
      "mount_file_id": "1O5zkvU731ysfc_pUmr_qzt_sT5rj5iAt",
      "authorship_tag": "ABX9TyMim6LWZ0UHZn/1RnQWN0qV",
      "include_colab_link": true
    },
    "kernelspec": {
      "display_name": "Python 3",
      "name": "python3"
    }
  },
  "cells": [
    {
      "cell_type": "markdown",
      "metadata": {
        "id": "view-in-github",
        "colab_type": "text"
      },
      "source": [
        "<a href=\"https://colab.research.google.com/github/ShivamSinghal1/My-ML-Projects/blob/master/Codeforces_Problem_Predicter.ipynb\" target=\"_parent\"><img src=\"https://colab.research.google.com/assets/colab-badge.svg\" alt=\"Open In Colab\"/></a>"
      ]
    },
    {
      "cell_type": "code",
      "metadata": {
        "id": "xpNrHMPbv9ut"
      },
      "source": [
        "import numpy as np\n",
        "import pandas as pd\n",
        "import matplotlib.pyplot as plt\n",
        "\n",
        "from sklearn.model_selection import train_test_split\n",
        "from sklearn.metrics import confusion_matrix\n",
        "from sklearn.metrics import classification_report\n",
        "\n",
        "# Outlier detection\n",
        "from sklearn.svm import OneClassSVM\n",
        "\n",
        "# SVM Algo\n",
        "from sklearn.model_selection import RandomizedSearchCV\n",
        "from sklearn.svm import SVC\n",
        "\n",
        "#Naive Bayes\n",
        "from sklearn.naive_bayes import GaussianNB\n",
        "\n",
        "#Random Forest\n",
        "from sklearn.ensemble import RandomForestClassifier"
      ],
      "execution_count": 1,
      "outputs": []
    },
    {
      "cell_type": "code",
      "metadata": {
        "id": "sXosuApawNb0"
      },
      "source": [
        "df = pd.read_csv('/content/drive/MyDrive/Dataset/codeforces_problem_stat_complete.csv')"
      ],
      "execution_count": 2,
      "outputs": []
    },
    {
      "cell_type": "code",
      "metadata": {
        "colab": {
          "base_uri": "https://localhost:8080/"
        },
        "id": "m5UxlOn8wVPL",
        "outputId": "b8963356-d2f8-4762-872c-ecc2fcdcd687"
      },
      "source": [
        "df.info()"
      ],
      "execution_count": 3,
      "outputs": [
        {
          "output_type": "stream",
          "text": [
            "<class 'pandas.core.frame.DataFrame'>\n",
            "RangeIndex: 7979 entries, 0 to 7978\n",
            "Data columns (total 5 columns):\n",
            " #   Column  Non-Null Count  Dtype \n",
            "---  ------  --------------  ----- \n",
            " 0   code    7979 non-null   object\n",
            " 1   dacu    7979 non-null   int64 \n",
            " 2   dwau    7979 non-null   int64 \n",
            " 3   wa      7979 non-null   int64 \n",
            " 4   rating  7979 non-null   int64 \n",
            "dtypes: int64(4), object(1)\n",
            "memory usage: 311.8+ KB\n"
          ],
          "name": "stdout"
        }
      ]
    },
    {
      "cell_type": "code",
      "metadata": {
        "colab": {
          "base_uri": "https://localhost:8080/",
          "height": 204
        },
        "id": "x6YHgtiRwaIf",
        "outputId": "3dd3b3c9-fba8-49a9-80a4-5699fde7368a"
      },
      "source": [
        "df.head()"
      ],
      "execution_count": 4,
      "outputs": [
        {
          "output_type": "execute_result",
          "data": {
            "text/html": [
              "<div>\n",
              "<style scoped>\n",
              "    .dataframe tbody tr th:only-of-type {\n",
              "        vertical-align: middle;\n",
              "    }\n",
              "\n",
              "    .dataframe tbody tr th {\n",
              "        vertical-align: top;\n",
              "    }\n",
              "\n",
              "    .dataframe thead th {\n",
              "        text-align: right;\n",
              "    }\n",
              "</style>\n",
              "<table border=\"1\" class=\"dataframe\">\n",
              "  <thead>\n",
              "    <tr style=\"text-align: right;\">\n",
              "      <th></th>\n",
              "      <th>code</th>\n",
              "      <th>dacu</th>\n",
              "      <th>dwau</th>\n",
              "      <th>wa</th>\n",
              "      <th>rating</th>\n",
              "    </tr>\n",
              "  </thead>\n",
              "  <tbody>\n",
              "    <tr>\n",
              "      <th>0</th>\n",
              "      <td>1A</td>\n",
              "      <td>120239</td>\n",
              "      <td>19861</td>\n",
              "      <td>456524</td>\n",
              "      <td>1000</td>\n",
              "    </tr>\n",
              "    <tr>\n",
              "      <th>1</th>\n",
              "      <td>1C</td>\n",
              "      <td>3695</td>\n",
              "      <td>1445</td>\n",
              "      <td>17887</td>\n",
              "      <td>2100</td>\n",
              "    </tr>\n",
              "    <tr>\n",
              "      <th>2</th>\n",
              "      <td>1B</td>\n",
              "      <td>13500</td>\n",
              "      <td>4258</td>\n",
              "      <td>65477</td>\n",
              "      <td>1600</td>\n",
              "    </tr>\n",
              "    <tr>\n",
              "      <th>3</th>\n",
              "      <td>2B</td>\n",
              "      <td>5542</td>\n",
              "      <td>2673</td>\n",
              "      <td>49509</td>\n",
              "      <td>2000</td>\n",
              "    </tr>\n",
              "    <tr>\n",
              "      <th>4</th>\n",
              "      <td>2A</td>\n",
              "      <td>12455</td>\n",
              "      <td>6046</td>\n",
              "      <td>74079</td>\n",
              "      <td>1500</td>\n",
              "    </tr>\n",
              "  </tbody>\n",
              "</table>\n",
              "</div>"
            ],
            "text/plain": [
              "  code    dacu   dwau      wa  rating\n",
              "0   1A  120239  19861  456524    1000\n",
              "1   1C    3695   1445   17887    2100\n",
              "2   1B   13500   4258   65477    1600\n",
              "3   2B    5542   2673   49509    2000\n",
              "4   2A   12455   6046   74079    1500"
            ]
          },
          "metadata": {
            "tags": []
          },
          "execution_count": 4
        }
      ]
    },
    {
      "cell_type": "code",
      "metadata": {
        "id": "zOlX420xwcvx"
      },
      "source": [
        "test_df = df[df['rating'] == 0]"
      ],
      "execution_count": 5,
      "outputs": []
    },
    {
      "cell_type": "code",
      "metadata": {
        "id": "pdcx_xDzwgcf"
      },
      "source": [
        "df = df[df['rating'] > 0]"
      ],
      "execution_count": 6,
      "outputs": []
    },
    {
      "cell_type": "code",
      "metadata": {
        "id": "Cs0sGJ0qxpF9"
      },
      "source": [
        "rating , freq = np.unique(df['rating'] , return_counts = True)"
      ],
      "execution_count": 7,
      "outputs": []
    },
    {
      "cell_type": "code",
      "metadata": {
        "colab": {
          "base_uri": "https://localhost:8080/",
          "height": 282
        },
        "id": "JrblICcAxp3I",
        "outputId": "0f4fcb81-f40a-41f9-fe37-2f2c6ebf7776"
      },
      "source": [
        "plt.bar(rating , freq , 20)"
      ],
      "execution_count": 8,
      "outputs": [
        {
          "output_type": "execute_result",
          "data": {
            "text/plain": [
              "<BarContainer object of 28 artists>"
            ]
          },
          "metadata": {
            "tags": []
          },
          "execution_count": 8
        },
        {
          "output_type": "display_data",
          "data": {
            "image/png": "[encoded data removed]",
            "text/plain": [
              "<Figure size 432x288 with 1 Axes>"
            ]
          },
          "metadata": {
            "tags": [],
            "needs_background": "light"
          }
        }
      ]
    },
    {
      "cell_type": "code",
      "metadata": {
        "colab": {
          "base_uri": "https://localhost:8080/"
        },
        "id": "gumydqZP0Sgp",
        "outputId": "4df01b45-81ee-4831-8532-b8dae1e00a0e"
      },
      "source": [
        "rating , freq"
      ],
      "execution_count": 9,
      "outputs": [
        {
          "output_type": "execute_result",
          "data": {
            "text/plain": [
              "(array([ 800,  900, 1000, 1100, 1200, 1300, 1400, 1500, 1600, 1700, 1800,\n",
              "        1900, 2000, 2100, 2200, 2300, 2400, 2500, 2600, 2700, 2800, 2900,\n",
              "        3000, 3100, 3200, 3300, 3400, 3500]),\n",
              " array([388, 205, 257, 248, 301, 321, 314, 414, 485, 432, 419, 438, 440,\n",
              "        388, 374, 330, 367, 308, 259, 222, 157, 162, 130, 114, 109,  64,\n",
              "         53,  58]))"
            ]
          },
          "metadata": {
            "tags": []
          },
          "execution_count": 9
        }
      ]
    },
    {
      "cell_type": "code",
      "metadata": {
        "id": "YMvuW8lM0apH"
      },
      "source": [
        "#rating         #category\n",
        "#800  - 1100 - 0 (Very Easy)\n",
        "#1200 - 1500 - 1 (Easy)\n",
        "#1600 - 1800 - 2 (Medium)\n",
        "#1900 - 2100 - 3 (Hard)\n",
        "#2200 - 2600 - 4 (Super Hard)\n",
        "#2700 -      - 5 (Extreme Hard) "
      ],
      "execution_count": 10,
      "outputs": []
    },
    {
      "cell_type": "code",
      "metadata": {
        "id": "gS1bbJ6y30H8"
      },
      "source": [
        "df['category'] = df['rating'].replace(rating , [ 0, 0, 0, 0, 1, 1, 1, 1, 2, 2, 2,\n",
        "        3, 3, 3, 4, 4, 4, 4, 5, 5, 5, 5, 5, 5, 5, 5, 5, 5])"
      ],
      "execution_count": 11,
      "outputs": []
    },
    {
      "cell_type": "code",
      "metadata": {
        "colab": {
          "base_uri": "https://localhost:8080/",
          "height": 282
        },
        "id": "_8LiVe8i4R83",
        "outputId": "9b3dff3e-b058-4758-c571-37b57fbd331e"
      },
      "source": [
        "category , category_freq = np.unique(df['category'] , return_counts = True)\n",
        "plt.bar(category , category_freq , 0.5)"
      ],
      "execution_count": 12,
      "outputs": [
        {
          "output_type": "execute_result",
          "data": {
            "text/plain": [
              "<BarContainer object of 6 artists>"
            ]
          },
          "metadata": {
            "tags": []
          },
          "execution_count": 12
        },
        {
          "output_type": "display_data",
          "data": {
            "image/png": "[encoded data removed]",
            "text/plain": [
              "<Figure size 432x288 with 1 Axes>"
            ]
          },
          "metadata": {
            "tags": [],
            "needs_background": "light"
          }
        }
      ]
    },
    {
      "cell_type": "code",
      "metadata": {
        "colab": {
          "base_uri": "https://localhost:8080/"
        },
        "id": "vQuTlNnp4WM2",
        "outputId": "b876b527-f310-4aff-c7e1-96efaa1c94e4"
      },
      "source": [
        "category_freq"
      ],
      "execution_count": 13,
      "outputs": [
        {
          "output_type": "execute_result",
          "data": {
            "text/plain": [
              "array([1098, 1350, 1336, 1266, 1379, 1328])"
            ]
          },
          "metadata": {
            "tags": []
          },
          "execution_count": 13
        }
      ]
    },
    {
      "cell_type": "code",
      "metadata": {
        "colab": {
          "base_uri": "https://localhost:8080/",
          "height": 204
        },
        "id": "GCbT1uMT4n5A",
        "outputId": "9aa56909-d6d8-4f91-e451-5728446096a5"
      },
      "source": [
        "df.head()"
      ],
      "execution_count": 14,
      "outputs": [
        {
          "output_type": "execute_result",
          "data": {
            "text/html": [
              "<div>\n",
              "<style scoped>\n",
              "    .dataframe tbody tr th:only-of-type {\n",
              "        vertical-align: middle;\n",
              "    }\n",
              "\n",
              "    .dataframe tbody tr th {\n",
              "        vertical-align: top;\n",
              "    }\n",
              "\n",
              "    .dataframe thead th {\n",
              "        text-align: right;\n",
              "    }\n",
              "</style>\n",
              "<table border=\"1\" class=\"dataframe\">\n",
              "  <thead>\n",
              "    <tr style=\"text-align: right;\">\n",
              "      <th></th>\n",
              "      <th>code</th>\n",
              "      <th>dacu</th>\n",
              "      <th>dwau</th>\n",
              "      <th>wa</th>\n",
              "      <th>rating</th>\n",
              "      <th>category</th>\n",
              "    </tr>\n",
              "  </thead>\n",
              "  <tbody>\n",
              "    <tr>\n",
              "      <th>0</th>\n",
              "      <td>1A</td>\n",
              "      <td>120239</td>\n",
              "      <td>19861</td>\n",
              "      <td>456524</td>\n",
              "      <td>1000</td>\n",
              "      <td>0</td>\n",
              "    </tr>\n",
              "    <tr>\n",
              "      <th>1</th>\n",
              "      <td>1C</td>\n",
              "      <td>3695</td>\n",
              "      <td>1445</td>\n",
              "      <td>17887</td>\n",
              "      <td>2100</td>\n",
              "      <td>3</td>\n",
              "    </tr>\n",
              "    <tr>\n",
              "      <th>2</th>\n",
              "      <td>1B</td>\n",
              "      <td>13500</td>\n",
              "      <td>4258</td>\n",
              "      <td>65477</td>\n",
              "      <td>1600</td>\n",
              "      <td>2</td>\n",
              "    </tr>\n",
              "    <tr>\n",
              "      <th>3</th>\n",
              "      <td>2B</td>\n",
              "      <td>5542</td>\n",
              "      <td>2673</td>\n",
              "      <td>49509</td>\n",
              "      <td>2000</td>\n",
              "      <td>3</td>\n",
              "    </tr>\n",
              "    <tr>\n",
              "      <th>4</th>\n",
              "      <td>2A</td>\n",
              "      <td>12455</td>\n",
              "      <td>6046</td>\n",
              "      <td>74079</td>\n",
              "      <td>1500</td>\n",
              "      <td>1</td>\n",
              "    </tr>\n",
              "  </tbody>\n",
              "</table>\n",
              "</div>"
            ],
            "text/plain": [
              "  code    dacu   dwau      wa  rating  category\n",
              "0   1A  120239  19861  456524    1000         0\n",
              "1   1C    3695   1445   17887    2100         3\n",
              "2   1B   13500   4258   65477    1600         2\n",
              "3   2B    5542   2673   49509    2000         3\n",
              "4   2A   12455   6046   74079    1500         1"
            ]
          },
          "metadata": {
            "tags": []
          },
          "execution_count": 14
        }
      ]
    },
    {
      "cell_type": "code",
      "metadata": {
        "id": "IbVrPxzX5lCF"
      },
      "source": [
        "X = np.array(df[['dacu','dwau','wa']])\n",
        "y = np.array(df['category'])"
      ],
      "execution_count": 15,
      "outputs": []
    },
    {
      "cell_type": "code",
      "metadata": {
        "id": "iRhP157V7636"
      },
      "source": [
        "X_train, X_test, y_train, y_test = train_test_split(X, y, test_size=0.2, random_state=1)"
      ],
      "execution_count": 16,
      "outputs": []
    },
    {
      "cell_type": "code",
      "metadata": {
        "colab": {
          "base_uri": "https://localhost:8080/"
        },
        "id": "t-tysuWi5u7r",
        "outputId": "09e17157-4e1e-4e76-b4c6-a3c759753ae2"
      },
      "source": [
        "X_train.shape , y_train.shape"
      ],
      "execution_count": 17,
      "outputs": [
        {
          "output_type": "execute_result",
          "data": {
            "text/plain": [
              "((6205, 3), (6205,))"
            ]
          },
          "metadata": {
            "tags": []
          },
          "execution_count": 17
        }
      ]
    },
    {
      "cell_type": "code",
      "metadata": {
        "colab": {
          "base_uri": "https://localhost:8080/"
        },
        "id": "-CWNqpnj9zpS",
        "outputId": "a099d914-2244-4033-a939-d54a0efbe2be"
      },
      "source": [
        "ee = OneClassSVM(nu=0.01)\n",
        "yhat = ee.fit_predict(X_train)\n",
        "# select all rows that are not outliers\n",
        "mask = yhat != -1\n",
        "X_train, y_train = X_train[mask, :], y_train[mask]\n",
        "# summarize the shape of the updated training dataset\n",
        "print(X_train.shape, y_train.shape)"
      ],
      "execution_count": 39,
      "outputs": [
        {
          "output_type": "stream",
          "text": [
            "(6148, 3) (6148,)\n"
          ],
          "name": "stdout"
        }
      ]
    },
    {
      "cell_type": "code",
      "metadata": {
        "id": "A-CAdk_FPg3l",
        "colab": {
          "base_uri": "https://localhost:8080/"
        },
        "outputId": "34a8702f-1b97-4989-fb4c-554f8dfc9f74"
      },
      "source": [
        "from sklearn.neighbors import LocalOutlierFactor\n",
        "lof = LocalOutlierFactor()\n",
        "yhat = lof.fit_predict(X_train)\n",
        "# select all rows that are not outliers\n",
        "mask = yhat != -1\n",
        "X_train, y_train = X_train[mask, :], y_train[mask]\n",
        "# summarize the shape of the updated training dataset\n",
        "print(X_train.shape, y_train.shape)"
      ],
      "execution_count": 40,
      "outputs": [
        {
          "output_type": "stream",
          "text": [
            "(6042, 3) (6042,)\n"
          ],
          "name": "stdout"
        }
      ]
    },
    {
      "cell_type": "code",
      "metadata": {
        "colab": {
          "base_uri": "https://localhost:8080/"
        },
        "id": "s_IfuGHs_x7M",
        "outputId": "824d0526-6f45-4f99-f568-1b906e984bcd"
      },
      "source": [
        "from sklearn.ensemble import IsolationForest\n",
        "# identify outliers in the training dataset\n",
        "iso = IsolationForest(contamination=0.1)\n",
        "yhat = iso.fit_predict(X_train)\n",
        "# select all rows that are not outliers\n",
        "mask = yhat != -1\n",
        "X_train, y_train = X_train[mask, :], y_train[mask]\n",
        "# summarize the shape of the updated training dataset\n",
        "print(X_train.shape, y_train.shape)"
      ],
      "execution_count": 18,
      "outputs": [
        {
          "output_type": "stream",
          "text": [
            "(5584, 3) (5584,)\n"
          ],
          "name": "stdout"
        }
      ]
    },
    {
      "cell_type": "markdown",
      "metadata": {
        "id": "bM3kPT085ZFq"
      },
      "source": [
        "SVM"
      ]
    },
    {
      "cell_type": "code",
      "metadata": {
        "colab": {
          "base_uri": "https://localhost:8080/"
        },
        "id": "PGPPeeUJH8JT",
        "outputId": "dfe3ec40-5b0b-4cc7-d4c9-a82751a8b1d2"
      },
      "source": [
        "from sklearn.preprocessing import StandardScaler\n",
        "X_train = StandardScaler().fit(X_train).transform(X_train)\n",
        "print(X_train)"
      ],
      "execution_count": 19,
      "outputs": [
        {
          "output_type": "stream",
          "text": [
            "[[-0.73818209 -0.69856221 -0.77088466]\n",
            " [-0.46713799 -0.36251393 -0.59001572]\n",
            " [ 0.84725433  2.62184147  1.82363133]\n",
            " ...\n",
            " [ 1.98152241  0.88610584  1.62343878]\n",
            " [ 2.09131242 -0.24844249 -0.28676395]\n",
            " [-0.32441097 -0.49508344 -0.54080494]]\n"
          ],
          "name": "stdout"
        }
      ]
    },
    {
      "cell_type": "code",
      "metadata": {
        "id": "qMSrHKbb5YiD",
        "colab": {
          "base_uri": "https://localhost:8080/"
        },
        "outputId": "872097e3-4741-40a1-a2c6-2d3e56836fa2"
      },
      "source": [
        "param_grid = {'C': [i for i in range(1,1000)], #1 ,10 ,100,1000,10000\n",
        "          \n",
        "              'gamma': [0.000001,0.00001,.00005,.0001,.0005,.001,.005,0.01, .1 ],\n",
        "              \n",
        "              'kernel':['linear','rbf'],\n",
        "\n",
        "              'decision_function_shape':['ovr','ovo','dag']\n",
        "              \n",
        "              }\n",
        "\n",
        "clf=RandomizedSearchCV(SVC(), param_grid, n_iter=100, cv=5, verbose=10)\n",
        "clf = clf.fit(X_train, y_train)\n",
        "clf.best_estimator_"
      ],
      "execution_count": 20,
      "outputs": [
        {
          "output_type": "stream",
          "text": [
            "Fitting 5 folds for each of 100 candidates, totalling 500 fits\n",
            "[CV] kernel=linear, gamma=1e-05, decision_function_shape=ovr, C=922 ..\n"
          ],
          "name": "stdout"
        },
        {
          "output_type": "stream",
          "text": [
            "[Parallel(n_jobs=1)]: Using backend SequentialBackend with 1 concurrent workers.\n"
          ],
          "name": "stderr"
        },
        {
          "output_type": "stream",
          "text": [
            "[CV]  kernel=linear, gamma=1e-05, decision_function_shape=ovr, C=922, score=0.457, total=  10.8s\n",
            "[CV] kernel=linear, gamma=1e-05, decision_function_shape=ovr, C=922 ..\n"
          ],
          "name": "stdout"
        },
        {
          "output_type": "stream",
          "text": [
            "[Parallel(n_jobs=1)]: Done   1 out of   1 | elapsed:   10.8s remaining:    0.0s\n"
          ],
          "name": "stderr"
        },
        {
          "output_type": "stream",
          "text": [
            "[CV]  kernel=linear, gamma=1e-05, decision_function_shape=ovr, C=922, score=0.496, total=  10.7s\n",
            "[CV] kernel=linear, gamma=1e-05, decision_function_shape=ovr, C=922 ..\n"
          ],
          "name": "stdout"
        },
        {
          "output_type": "stream",
          "text": [
            "[Parallel(n_jobs=1)]: Done   2 out of   2 | elapsed:   21.5s remaining:    0.0s\n"
          ],
          "name": "stderr"
        },
        {
          "output_type": "stream",
          "text": [
            "[CV]  kernel=linear, gamma=1e-05, decision_function_shape=ovr, C=922, score=0.473, total=  11.6s\n",
            "[CV] kernel=linear, gamma=1e-05, decision_function_shape=ovr, C=922 ..\n"
          ],
          "name": "stdout"
        },
        {
          "output_type": "stream",
          "text": [
            "[Parallel(n_jobs=1)]: Done   3 out of   3 | elapsed:   33.1s remaining:    0.0s\n"
          ],
          "name": "stderr"
        },
        {
          "output_type": "stream",
          "text": [
            "[CV]  kernel=linear, gamma=1e-05, decision_function_shape=ovr, C=922, score=0.467, total=  10.3s\n",
            "[CV] kernel=linear, gamma=1e-05, decision_function_shape=ovr, C=922 ..\n"
          ],
          "name": "stdout"
        },
        {
          "output_type": "stream",
          "text": [
            "[Parallel(n_jobs=1)]: Done   4 out of   4 | elapsed:   43.3s remaining:    0.0s\n"
          ],
          "name": "stderr"
        },
        {
          "output_type": "stream",
          "text": [
            "[CV]  kernel=linear, gamma=1e-05, decision_function_shape=ovr, C=922, score=0.453, total=   9.7s\n",
            "[CV] kernel=rbf, gamma=5e-05, decision_function_shape=dag, C=680 .....\n"
          ],
          "name": "stdout"
        },
        {
          "output_type": "stream",
          "text": [
            "[Parallel(n_jobs=1)]: Done   5 out of   5 | elapsed:   53.0s remaining:    0.0s\n"
          ],
          "name": "stderr"
        },
        {
          "output_type": "stream",
          "text": [
            "[CV]  kernel=rbf, gamma=5e-05, decision_function_shape=dag, C=680, score=0.432, total=   0.9s\n",
            "[CV] kernel=rbf, gamma=5e-05, decision_function_shape=dag, C=680 .....\n"
          ],
          "name": "stdout"
        },
        {
          "output_type": "stream",
          "text": [
            "[Parallel(n_jobs=1)]: Done   6 out of   6 | elapsed:   53.9s remaining:    0.0s\n"
          ],
          "name": "stderr"
        },
        {
          "output_type": "stream",
          "text": [
            "[CV]  kernel=rbf, gamma=5e-05, decision_function_shape=dag, C=680, score=0.479, total=   0.9s\n",
            "[CV] kernel=rbf, gamma=5e-05, decision_function_shape=dag, C=680 .....\n"
          ],
          "name": "stdout"
        },
        {
          "output_type": "stream",
          "text": [
            "[Parallel(n_jobs=1)]: Done   7 out of   7 | elapsed:   54.8s remaining:    0.0s\n"
          ],
          "name": "stderr"
        },
        {
          "output_type": "stream",
          "text": [
            "[CV]  kernel=rbf, gamma=5e-05, decision_function_shape=dag, C=680, score=0.437, total=   0.9s\n",
            "[CV] kernel=rbf, gamma=5e-05, decision_function_shape=dag, C=680 .....\n"
          ],
          "name": "stdout"
        },
        {
          "output_type": "stream",
          "text": [
            "[Parallel(n_jobs=1)]: Done   8 out of   8 | elapsed:   55.6s remaining:    0.0s\n"
          ],
          "name": "stderr"
        },
        {
          "output_type": "stream",
          "text": [
            "[CV]  kernel=rbf, gamma=5e-05, decision_function_shape=dag, C=680, score=0.431, total=   0.9s\n",
            "[CV] kernel=rbf, gamma=5e-05, decision_function_shape=dag, C=680 .....\n"
          ],
          "name": "stdout"
        },
        {
          "output_type": "stream",
          "text": [
            "[Parallel(n_jobs=1)]: Done   9 out of   9 | elapsed:   56.5s remaining:    0.0s\n"
          ],
          "name": "stderr"
        },
        {
          "output_type": "stream",
          "text": [
            "[CV]  kernel=rbf, gamma=5e-05, decision_function_shape=dag, C=680, score=0.427, total=   0.9s\n",
            "[CV] kernel=linear, gamma=0.0005, decision_function_shape=ovr, C=533 .\n",
            "[CV]  kernel=linear, gamma=0.0005, decision_function_shape=ovr, C=533, score=0.457, total=   6.8s\n",
            "[CV] kernel=linear, gamma=0.0005, decision_function_shape=ovr, C=533 .\n",
            "[CV]  kernel=linear, gamma=0.0005, decision_function_shape=ovr, C=533, score=0.496, total=   6.8s\n",
            "[CV] kernel=linear, gamma=0.0005, decision_function_shape=ovr, C=533 .\n",
            "[CV]  kernel=linear, gamma=0.0005, decision_function_shape=ovr, C=533, score=0.473, total=   7.2s\n",
            "[CV] kernel=linear, gamma=0.0005, decision_function_shape=ovr, C=533 .\n",
            "[CV]  kernel=linear, gamma=0.0005, decision_function_shape=ovr, C=533, score=0.468, total=   6.7s\n",
            "[CV] kernel=linear, gamma=0.0005, decision_function_shape=ovr, C=533 .\n",
            "[CV]  kernel=linear, gamma=0.0005, decision_function_shape=ovr, C=533, score=0.452, total=   6.4s\n",
            "[CV] kernel=linear, gamma=5e-05, decision_function_shape=ovr, C=740 ..\n",
            "[CV]  kernel=linear, gamma=5e-05, decision_function_shape=ovr, C=740, score=0.456, total=   9.6s\n",
            "[CV] kernel=linear, gamma=5e-05, decision_function_shape=ovr, C=740 ..\n",
            "[CV]  kernel=linear, gamma=5e-05, decision_function_shape=ovr, C=740, score=0.496, total=   9.1s\n",
            "[CV] kernel=linear, gamma=5e-05, decision_function_shape=ovr, C=740 ..\n",
            "[CV]  kernel=linear, gamma=5e-05, decision_function_shape=ovr, C=740, score=0.473, total=   8.9s\n",
            "[CV] kernel=linear, gamma=5e-05, decision_function_shape=ovr, C=740 ..\n",
            "[CV]  kernel=linear, gamma=5e-05, decision_function_shape=ovr, C=740, score=0.467, total=   8.4s\n",
            "[CV] kernel=linear, gamma=5e-05, decision_function_shape=ovr, C=740 ..\n",
            "[CV]  kernel=linear, gamma=5e-05, decision_function_shape=ovr, C=740, score=0.453, total=   8.3s\n",
            "[CV] kernel=linear, gamma=1e-05, decision_function_shape=ovo, C=190 ..\n",
            "[CV]  kernel=linear, gamma=1e-05, decision_function_shape=ovo, C=190, score=0.456, total=   3.2s\n",
            "[CV] kernel=linear, gamma=1e-05, decision_function_shape=ovo, C=190 ..\n",
            "[CV]  kernel=linear, gamma=1e-05, decision_function_shape=ovo, C=190, score=0.497, total=   3.3s\n",
            "[CV] kernel=linear, gamma=1e-05, decision_function_shape=ovo, C=190 ..\n",
            "[CV]  kernel=linear, gamma=1e-05, decision_function_shape=ovo, C=190, score=0.472, total=   3.2s\n",
            "[CV] kernel=linear, gamma=1e-05, decision_function_shape=ovo, C=190 ..\n",
            "[CV]  kernel=linear, gamma=1e-05, decision_function_shape=ovo, C=190, score=0.466, total=   3.0s\n",
            "[CV] kernel=linear, gamma=1e-05, decision_function_shape=ovo, C=190 ..\n",
            "[CV]  kernel=linear, gamma=1e-05, decision_function_shape=ovo, C=190, score=0.452, total=   3.0s\n",
            "[CV] kernel=linear, gamma=0.0001, decision_function_shape=ovr, C=567 .\n",
            "[CV]  kernel=linear, gamma=0.0001, decision_function_shape=ovr, C=567, score=0.457, total=   7.0s\n",
            "[CV] kernel=linear, gamma=0.0001, decision_function_shape=ovr, C=567 .\n",
            "[CV]  kernel=linear, gamma=0.0001, decision_function_shape=ovr, C=567, score=0.496, total=   7.2s\n",
            "[CV] kernel=linear, gamma=0.0001, decision_function_shape=ovr, C=567 .\n",
            "[CV]  kernel=linear, gamma=0.0001, decision_function_shape=ovr, C=567, score=0.473, total=   7.6s\n",
            "[CV] kernel=linear, gamma=0.0001, decision_function_shape=ovr, C=567 .\n",
            "[CV]  kernel=linear, gamma=0.0001, decision_function_shape=ovr, C=567, score=0.467, total=   6.6s\n",
            "[CV] kernel=linear, gamma=0.0001, decision_function_shape=ovr, C=567 .\n",
            "[CV]  kernel=linear, gamma=0.0001, decision_function_shape=ovr, C=567, score=0.452, total=   6.7s\n",
            "[CV] kernel=rbf, gamma=1e-05, decision_function_shape=ovo, C=933 .....\n",
            "[CV]  kernel=rbf, gamma=1e-05, decision_function_shape=ovo, C=933, score=0.412, total=   0.9s\n",
            "[CV] kernel=rbf, gamma=1e-05, decision_function_shape=ovo, C=933 .....\n",
            "[CV]  kernel=rbf, gamma=1e-05, decision_function_shape=ovo, C=933, score=0.447, total=   0.9s\n",
            "[CV] kernel=rbf, gamma=1e-05, decision_function_shape=ovo, C=933 .....\n",
            "[CV]  kernel=rbf, gamma=1e-05, decision_function_shape=ovo, C=933, score=0.411, total=   0.9s\n",
            "[CV] kernel=rbf, gamma=1e-05, decision_function_shape=ovo, C=933 .....\n",
            "[CV]  kernel=rbf, gamma=1e-05, decision_function_shape=ovo, C=933, score=0.420, total=   0.9s\n",
            "[CV] kernel=rbf, gamma=1e-05, decision_function_shape=ovo, C=933 .....\n",
            "[CV]  kernel=rbf, gamma=1e-05, decision_function_shape=ovo, C=933, score=0.415, total=   0.9s\n",
            "[CV] kernel=linear, gamma=0.005, decision_function_shape=dag, C=659 ..\n",
            "[CV]  kernel=linear, gamma=0.005, decision_function_shape=dag, C=659, score=0.456, total=   8.6s\n",
            "[CV] kernel=linear, gamma=0.005, decision_function_shape=dag, C=659 ..\n",
            "[CV]  kernel=linear, gamma=0.005, decision_function_shape=dag, C=659, score=0.496, total=   8.4s\n",
            "[CV] kernel=linear, gamma=0.005, decision_function_shape=dag, C=659 ..\n",
            "[CV]  kernel=linear, gamma=0.005, decision_function_shape=dag, C=659, score=0.473, total=   8.3s\n",
            "[CV] kernel=linear, gamma=0.005, decision_function_shape=dag, C=659 ..\n",
            "[CV]  kernel=linear, gamma=0.005, decision_function_shape=dag, C=659, score=0.468, total=   7.3s\n",
            "[CV] kernel=linear, gamma=0.005, decision_function_shape=dag, C=659 ..\n",
            "[CV]  kernel=linear, gamma=0.005, decision_function_shape=dag, C=659, score=0.452, total=   7.7s\n",
            "[CV] kernel=linear, gamma=1e-06, decision_function_shape=ovo, C=11 ...\n",
            "[CV]  kernel=linear, gamma=1e-06, decision_function_shape=ovo, C=11, score=0.454, total=   0.7s\n",
            "[CV] kernel=linear, gamma=1e-06, decision_function_shape=ovo, C=11 ...\n",
            "[CV]  kernel=linear, gamma=1e-06, decision_function_shape=ovo, C=11, score=0.496, total=   0.7s\n",
            "[CV] kernel=linear, gamma=1e-06, decision_function_shape=ovo, C=11 ...\n",
            "[CV]  kernel=linear, gamma=1e-06, decision_function_shape=ovo, C=11, score=0.474, total=   0.7s\n",
            "[CV] kernel=linear, gamma=1e-06, decision_function_shape=ovo, C=11 ...\n",
            "[CV]  kernel=linear, gamma=1e-06, decision_function_shape=ovo, C=11, score=0.465, total=   0.7s\n",
            "[CV] kernel=linear, gamma=1e-06, decision_function_shape=ovo, C=11 ...\n",
            "[CV]  kernel=linear, gamma=1e-06, decision_function_shape=ovo, C=11, score=0.453, total=   0.7s\n",
            "[CV] kernel=rbf, gamma=1e-05, decision_function_shape=ovo, C=127 .....\n",
            "[CV]  kernel=rbf, gamma=1e-05, decision_function_shape=ovo, C=127, score=0.341, total=   1.1s\n",
            "[CV] kernel=rbf, gamma=1e-05, decision_function_shape=ovo, C=127 .....\n",
            "[CV]  kernel=rbf, gamma=1e-05, decision_function_shape=ovo, C=127, score=0.374, total=   1.1s\n",
            "[CV] kernel=rbf, gamma=1e-05, decision_function_shape=ovo, C=127 .....\n",
            "[CV]  kernel=rbf, gamma=1e-05, decision_function_shape=ovo, C=127, score=0.342, total=   1.1s\n",
            "[CV] kernel=rbf, gamma=1e-05, decision_function_shape=ovo, C=127 .....\n",
            "[CV]  kernel=rbf, gamma=1e-05, decision_function_shape=ovo, C=127, score=0.354, total=   1.1s\n",
            "[CV] kernel=rbf, gamma=1e-05, decision_function_shape=ovo, C=127 .....\n",
            "[CV]  kernel=rbf, gamma=1e-05, decision_function_shape=ovo, C=127, score=0.340, total=   1.1s\n",
            "[CV] kernel=linear, gamma=0.0001, decision_function_shape=dag, C=311 .\n",
            "[CV]  kernel=linear, gamma=0.0001, decision_function_shape=dag, C=311, score=0.456, total=   4.6s\n",
            "[CV] kernel=linear, gamma=0.0001, decision_function_shape=dag, C=311 .\n",
            "[CV]  kernel=linear, gamma=0.0001, decision_function_shape=dag, C=311, score=0.496, total=   4.4s\n",
            "[CV] kernel=linear, gamma=0.0001, decision_function_shape=dag, C=311 .\n",
            "[CV]  kernel=linear, gamma=0.0001, decision_function_shape=dag, C=311, score=0.473, total=   4.4s\n",
            "[CV] kernel=linear, gamma=0.0001, decision_function_shape=dag, C=311 .\n",
            "[CV]  kernel=linear, gamma=0.0001, decision_function_shape=dag, C=311, score=0.466, total=   4.3s\n",
            "[CV] kernel=linear, gamma=0.0001, decision_function_shape=dag, C=311 .\n",
            "[CV]  kernel=linear, gamma=0.0001, decision_function_shape=dag, C=311, score=0.452, total=   4.3s\n",
            "[CV] kernel=rbf, gamma=0.0005, decision_function_shape=ovr, C=95 .....\n",
            "[CV]  kernel=rbf, gamma=0.0005, decision_function_shape=ovr, C=95, score=0.436, total=   0.8s\n",
            "[CV] kernel=rbf, gamma=0.0005, decision_function_shape=ovr, C=95 .....\n",
            "[CV]  kernel=rbf, gamma=0.0005, decision_function_shape=ovr, C=95, score=0.481, total=   0.9s\n",
            "[CV] kernel=rbf, gamma=0.0005, decision_function_shape=ovr, C=95 .....\n",
            "[CV]  kernel=rbf, gamma=0.0005, decision_function_shape=ovr, C=95, score=0.443, total=   0.8s\n",
            "[CV] kernel=rbf, gamma=0.0005, decision_function_shape=ovr, C=95 .....\n",
            "[CV]  kernel=rbf, gamma=0.0005, decision_function_shape=ovr, C=95, score=0.437, total=   0.8s\n",
            "[CV] kernel=rbf, gamma=0.0005, decision_function_shape=ovr, C=95 .....\n",
            "[CV]  kernel=rbf, gamma=0.0005, decision_function_shape=ovr, C=95, score=0.434, total=   0.8s\n",
            "[CV] kernel=rbf, gamma=0.01, decision_function_shape=ovr, C=807 ......\n",
            "[CV]  kernel=rbf, gamma=0.01, decision_function_shape=ovr, C=807, score=0.456, total=   1.1s\n",
            "[CV] kernel=rbf, gamma=0.01, decision_function_shape=ovr, C=807 ......\n",
            "[CV]  kernel=rbf, gamma=0.01, decision_function_shape=ovr, C=807, score=0.494, total=   1.1s\n",
            "[CV] kernel=rbf, gamma=0.01, decision_function_shape=ovr, C=807 ......\n",
            "[CV]  kernel=rbf, gamma=0.01, decision_function_shape=ovr, C=807, score=0.475, total=   1.1s\n",
            "[CV] kernel=rbf, gamma=0.01, decision_function_shape=ovr, C=807 ......\n",
            "[CV]  kernel=rbf, gamma=0.01, decision_function_shape=ovr, C=807, score=0.461, total=   1.0s\n",
            "[CV] kernel=rbf, gamma=0.01, decision_function_shape=ovr, C=807 ......\n",
            "[CV]  kernel=rbf, gamma=0.01, decision_function_shape=ovr, C=807, score=0.444, total=   1.1s\n",
            "[CV] kernel=linear, gamma=0.0001, decision_function_shape=ovr, C=670 .\n",
            "[CV]  kernel=linear, gamma=0.0001, decision_function_shape=ovr, C=670, score=0.457, total=   8.8s\n",
            "[CV] kernel=linear, gamma=0.0001, decision_function_shape=ovr, C=670 .\n",
            "[CV]  kernel=linear, gamma=0.0001, decision_function_shape=ovr, C=670, score=0.496, total=   8.1s\n",
            "[CV] kernel=linear, gamma=0.0001, decision_function_shape=ovr, C=670 .\n",
            "[CV]  kernel=linear, gamma=0.0001, decision_function_shape=ovr, C=670, score=0.473, total=   8.3s\n",
            "[CV] kernel=linear, gamma=0.0001, decision_function_shape=ovr, C=670 .\n",
            "[CV]  kernel=linear, gamma=0.0001, decision_function_shape=ovr, C=670, score=0.468, total=   7.8s\n",
            "[CV] kernel=linear, gamma=0.0001, decision_function_shape=ovr, C=670 .\n",
            "[CV]  kernel=linear, gamma=0.0001, decision_function_shape=ovr, C=670, score=0.452, total=   7.4s\n",
            "[CV] kernel=rbf, gamma=0.0005, decision_function_shape=dag, C=143 ....\n",
            "[CV]  kernel=rbf, gamma=0.0005, decision_function_shape=dag, C=143, score=0.441, total=   0.8s\n",
            "[CV] kernel=rbf, gamma=0.0005, decision_function_shape=dag, C=143 ....\n",
            "[CV]  kernel=rbf, gamma=0.0005, decision_function_shape=dag, C=143, score=0.490, total=   0.8s\n",
            "[CV] kernel=rbf, gamma=0.0005, decision_function_shape=dag, C=143 ....\n",
            "[CV]  kernel=rbf, gamma=0.0005, decision_function_shape=dag, C=143, score=0.451, total=   0.8s\n",
            "[CV] kernel=rbf, gamma=0.0005, decision_function_shape=dag, C=143 ....\n",
            "[CV]  kernel=rbf, gamma=0.0005, decision_function_shape=dag, C=143, score=0.443, total=   0.8s\n",
            "[CV] kernel=rbf, gamma=0.0005, decision_function_shape=dag, C=143 ....\n",
            "[CV]  kernel=rbf, gamma=0.0005, decision_function_shape=dag, C=143, score=0.435, total=   0.8s\n",
            "[CV] kernel=rbf, gamma=0.01, decision_function_shape=ovo, C=383 ......\n",
            "[CV]  kernel=rbf, gamma=0.01, decision_function_shape=ovo, C=383, score=0.455, total=   0.9s\n",
            "[CV] kernel=rbf, gamma=0.01, decision_function_shape=ovo, C=383 ......\n",
            "[CV]  kernel=rbf, gamma=0.01, decision_function_shape=ovo, C=383, score=0.491, total=   1.0s\n",
            "[CV] kernel=rbf, gamma=0.01, decision_function_shape=ovo, C=383 ......\n",
            "[CV]  kernel=rbf, gamma=0.01, decision_function_shape=ovo, C=383, score=0.477, total=   0.9s\n",
            "[CV] kernel=rbf, gamma=0.01, decision_function_shape=ovo, C=383 ......\n",
            "[CV]  kernel=rbf, gamma=0.01, decision_function_shape=ovo, C=383, score=0.464, total=   1.0s\n",
            "[CV] kernel=rbf, gamma=0.01, decision_function_shape=ovo, C=383 ......\n",
            "[CV]  kernel=rbf, gamma=0.01, decision_function_shape=ovo, C=383, score=0.451, total=   0.9s\n",
            "[CV] kernel=rbf, gamma=0.005, decision_function_shape=dag, C=641 .....\n",
            "[CV]  kernel=rbf, gamma=0.005, decision_function_shape=dag, C=641, score=0.457, total=   0.9s\n",
            "[CV] kernel=rbf, gamma=0.005, decision_function_shape=dag, C=641 .....\n",
            "[CV]  kernel=rbf, gamma=0.005, decision_function_shape=dag, C=641, score=0.492, total=   1.0s\n",
            "[CV] kernel=rbf, gamma=0.005, decision_function_shape=dag, C=641 .....\n",
            "[CV]  kernel=rbf, gamma=0.005, decision_function_shape=dag, C=641, score=0.473, total=   0.9s\n",
            "[CV] kernel=rbf, gamma=0.005, decision_function_shape=dag, C=641 .....\n",
            "[CV]  kernel=rbf, gamma=0.005, decision_function_shape=dag, C=641, score=0.465, total=   0.9s\n",
            "[CV] kernel=rbf, gamma=0.005, decision_function_shape=dag, C=641 .....\n",
            "[CV]  kernel=rbf, gamma=0.005, decision_function_shape=dag, C=641, score=0.451, total=   0.9s\n",
            "[CV] kernel=rbf, gamma=1e-06, decision_function_shape=ovo, C=8 .......\n",
            "[CV]  kernel=rbf, gamma=1e-06, decision_function_shape=ovo, C=8, score=0.206, total=   1.2s\n",
            "[CV] kernel=rbf, gamma=1e-06, decision_function_shape=ovo, C=8 .......\n",
            "[CV]  kernel=rbf, gamma=1e-06, decision_function_shape=ovo, C=8, score=0.206, total=   1.2s\n",
            "[CV] kernel=rbf, gamma=1e-06, decision_function_shape=ovo, C=8 .......\n",
            "[CV]  kernel=rbf, gamma=1e-06, decision_function_shape=ovo, C=8, score=0.205, total=   1.2s\n",
            "[CV] kernel=rbf, gamma=1e-06, decision_function_shape=ovo, C=8 .......\n",
            "[CV]  kernel=rbf, gamma=1e-06, decision_function_shape=ovo, C=8, score=0.205, total=   1.2s\n",
            "[CV] kernel=rbf, gamma=1e-06, decision_function_shape=ovo, C=8 .......\n",
            "[CV]  kernel=rbf, gamma=1e-06, decision_function_shape=ovo, C=8, score=0.206, total=   1.2s\n",
            "[CV] kernel=rbf, gamma=5e-05, decision_function_shape=dag, C=145 .....\n",
            "[CV]  kernel=rbf, gamma=5e-05, decision_function_shape=dag, C=145, score=0.405, total=   0.9s\n",
            "[CV] kernel=rbf, gamma=5e-05, decision_function_shape=dag, C=145 .....\n",
            "[CV]  kernel=rbf, gamma=5e-05, decision_function_shape=dag, C=145, score=0.439, total=   0.9s\n",
            "[CV] kernel=rbf, gamma=5e-05, decision_function_shape=dag, C=145 .....\n",
            "[CV]  kernel=rbf, gamma=5e-05, decision_function_shape=dag, C=145, score=0.399, total=   0.9s\n",
            "[CV] kernel=rbf, gamma=5e-05, decision_function_shape=dag, C=145 .....\n",
            "[CV]  kernel=rbf, gamma=5e-05, decision_function_shape=dag, C=145, score=0.406, total=   0.9s\n",
            "[CV] kernel=rbf, gamma=5e-05, decision_function_shape=dag, C=145 .....\n",
            "[CV]  kernel=rbf, gamma=5e-05, decision_function_shape=dag, C=145, score=0.414, total=   0.9s\n",
            "[CV] kernel=rbf, gamma=0.005, decision_function_shape=ovo, C=214 .....\n",
            "[CV]  kernel=rbf, gamma=0.005, decision_function_shape=ovo, C=214, score=0.457, total=   0.8s\n",
            "[CV] kernel=rbf, gamma=0.005, decision_function_shape=ovo, C=214 .....\n",
            "[CV]  kernel=rbf, gamma=0.005, decision_function_shape=ovo, C=214, score=0.498, total=   0.9s\n",
            "[CV] kernel=rbf, gamma=0.005, decision_function_shape=ovo, C=214 .....\n",
            "[CV]  kernel=rbf, gamma=0.005, decision_function_shape=ovo, C=214, score=0.469, total=   0.8s\n",
            "[CV] kernel=rbf, gamma=0.005, decision_function_shape=ovo, C=214 .....\n",
            "[CV]  kernel=rbf, gamma=0.005, decision_function_shape=ovo, C=214, score=0.460, total=   0.8s\n",
            "[CV] kernel=rbf, gamma=0.005, decision_function_shape=ovo, C=214 .....\n",
            "[CV]  kernel=rbf, gamma=0.005, decision_function_shape=ovo, C=214, score=0.460, total=   0.8s\n",
            "[CV] kernel=rbf, gamma=0.1, decision_function_shape=dag, C=339 .......\n",
            "[CV]  kernel=rbf, gamma=0.1, decision_function_shape=dag, C=339, score=0.478, total=   1.4s\n",
            "[CV] kernel=rbf, gamma=0.1, decision_function_shape=dag, C=339 .......\n",
            "[CV]  kernel=rbf, gamma=0.1, decision_function_shape=dag, C=339, score=0.502, total=   1.4s\n",
            "[CV] kernel=rbf, gamma=0.1, decision_function_shape=dag, C=339 .......\n",
            "[CV]  kernel=rbf, gamma=0.1, decision_function_shape=dag, C=339, score=0.471, total=   1.3s\n",
            "[CV] kernel=rbf, gamma=0.1, decision_function_shape=dag, C=339 .......\n",
            "[CV]  kernel=rbf, gamma=0.1, decision_function_shape=dag, C=339, score=0.463, total=   1.4s\n",
            "[CV] kernel=rbf, gamma=0.1, decision_function_shape=dag, C=339 .......\n",
            "[CV]  kernel=rbf, gamma=0.1, decision_function_shape=dag, C=339, score=0.469, total=   1.4s\n",
            "[CV] kernel=linear, gamma=5e-05, decision_function_shape=ovr, C=690 ..\n",
            "[CV]  kernel=linear, gamma=5e-05, decision_function_shape=ovr, C=690, score=0.457, total=   8.6s\n",
            "[CV] kernel=linear, gamma=5e-05, decision_function_shape=ovr, C=690 ..\n",
            "[CV]  kernel=linear, gamma=5e-05, decision_function_shape=ovr, C=690, score=0.496, total=   8.4s\n",
            "[CV] kernel=linear, gamma=5e-05, decision_function_shape=ovr, C=690 ..\n",
            "[CV]  kernel=linear, gamma=5e-05, decision_function_shape=ovr, C=690, score=0.473, total=   8.8s\n",
            "[CV] kernel=linear, gamma=5e-05, decision_function_shape=ovr, C=690 ..\n",
            "[CV]  kernel=linear, gamma=5e-05, decision_function_shape=ovr, C=690, score=0.468, total=   7.9s\n",
            "[CV] kernel=linear, gamma=5e-05, decision_function_shape=ovr, C=690 ..\n",
            "[CV]  kernel=linear, gamma=5e-05, decision_function_shape=ovr, C=690, score=0.453, total=   8.1s\n",
            "[CV] kernel=rbf, gamma=0.001, decision_function_shape=ovo, C=276 .....\n",
            "[CV]  kernel=rbf, gamma=0.001, decision_function_shape=ovo, C=276, score=0.452, total=   0.8s\n",
            "[CV] kernel=rbf, gamma=0.001, decision_function_shape=ovo, C=276 .....\n",
            "[CV]  kernel=rbf, gamma=0.001, decision_function_shape=ovo, C=276, score=0.480, total=   0.8s\n",
            "[CV] kernel=rbf, gamma=0.001, decision_function_shape=ovo, C=276 .....\n",
            "[CV]  kernel=rbf, gamma=0.001, decision_function_shape=ovo, C=276, score=0.473, total=   0.8s\n",
            "[CV] kernel=rbf, gamma=0.001, decision_function_shape=ovo, C=276 .....\n",
            "[CV]  kernel=rbf, gamma=0.001, decision_function_shape=ovo, C=276, score=0.447, total=   0.8s\n",
            "[CV] kernel=rbf, gamma=0.001, decision_function_shape=ovo, C=276 .....\n",
            "[CV]  kernel=rbf, gamma=0.001, decision_function_shape=ovo, C=276, score=0.461, total=   0.8s\n",
            "[CV] kernel=linear, gamma=0.001, decision_function_shape=dag, C=211 ..\n",
            "[CV]  kernel=linear, gamma=0.001, decision_function_shape=dag, C=211, score=0.456, total=   3.5s\n",
            "[CV] kernel=linear, gamma=0.001, decision_function_shape=dag, C=211 ..\n",
            "[CV]  kernel=linear, gamma=0.001, decision_function_shape=dag, C=211, score=0.496, total=   3.4s\n",
            "[CV] kernel=linear, gamma=0.001, decision_function_shape=dag, C=211 ..\n",
            "[CV]  kernel=linear, gamma=0.001, decision_function_shape=dag, C=211, score=0.473, total=   3.5s\n",
            "[CV] kernel=linear, gamma=0.001, decision_function_shape=dag, C=211 ..\n",
            "[CV]  kernel=linear, gamma=0.001, decision_function_shape=dag, C=211, score=0.466, total=   3.4s\n",
            "[CV] kernel=linear, gamma=0.001, decision_function_shape=dag, C=211 ..\n",
            "[CV]  kernel=linear, gamma=0.001, decision_function_shape=dag, C=211, score=0.452, total=   3.4s\n",
            "[CV] kernel=rbf, gamma=1e-06, decision_function_shape=dag, C=723 .....\n",
            "[CV]  kernel=rbf, gamma=1e-06, decision_function_shape=dag, C=723, score=0.332, total=   1.1s\n",
            "[CV] kernel=rbf, gamma=1e-06, decision_function_shape=dag, C=723 .....\n",
            "[CV]  kernel=rbf, gamma=1e-06, decision_function_shape=dag, C=723, score=0.349, total=   1.1s\n",
            "[CV] kernel=rbf, gamma=1e-06, decision_function_shape=dag, C=723 .....\n",
            "[CV]  kernel=rbf, gamma=1e-06, decision_function_shape=dag, C=723, score=0.333, total=   1.1s\n",
            "[CV] kernel=rbf, gamma=1e-06, decision_function_shape=dag, C=723 .....\n",
            "[CV]  kernel=rbf, gamma=1e-06, decision_function_shape=dag, C=723, score=0.342, total=   1.1s\n",
            "[CV] kernel=rbf, gamma=1e-06, decision_function_shape=dag, C=723 .....\n",
            "[CV]  kernel=rbf, gamma=1e-06, decision_function_shape=dag, C=723, score=0.327, total=   1.1s\n",
            "[CV] kernel=linear, gamma=0.005, decision_function_shape=ovr, C=832 ..\n",
            "[CV]  kernel=linear, gamma=0.005, decision_function_shape=ovr, C=832, score=0.457, total=   9.9s\n",
            "[CV] kernel=linear, gamma=0.005, decision_function_shape=ovr, C=832 ..\n",
            "[CV]  kernel=linear, gamma=0.005, decision_function_shape=ovr, C=832, score=0.496, total=   9.9s\n",
            "[CV] kernel=linear, gamma=0.005, decision_function_shape=ovr, C=832 ..\n",
            "[CV]  kernel=linear, gamma=0.005, decision_function_shape=ovr, C=832, score=0.473, total=  10.3s\n",
            "[CV] kernel=linear, gamma=0.005, decision_function_shape=ovr, C=832 ..\n",
            "[CV]  kernel=linear, gamma=0.005, decision_function_shape=ovr, C=832, score=0.467, total=   9.4s\n",
            "[CV] kernel=linear, gamma=0.005, decision_function_shape=ovr, C=832 ..\n",
            "[CV]  kernel=linear, gamma=0.005, decision_function_shape=ovr, C=832, score=0.453, total=   9.4s\n",
            "[CV] kernel=rbf, gamma=0.005, decision_function_shape=dag, C=700 .....\n",
            "[CV]  kernel=rbf, gamma=0.005, decision_function_shape=dag, C=700, score=0.457, total=   0.9s\n",
            "[CV] kernel=rbf, gamma=0.005, decision_function_shape=dag, C=700 .....\n",
            "[CV]  kernel=rbf, gamma=0.005, decision_function_shape=dag, C=700, score=0.492, total=   1.0s\n",
            "[CV] kernel=rbf, gamma=0.005, decision_function_shape=dag, C=700 .....\n",
            "[CV]  kernel=rbf, gamma=0.005, decision_function_shape=dag, C=700, score=0.474, total=   0.9s\n",
            "[CV] kernel=rbf, gamma=0.005, decision_function_shape=dag, C=700 .....\n",
            "[CV]  kernel=rbf, gamma=0.005, decision_function_shape=dag, C=700, score=0.466, total=   1.0s\n",
            "[CV] kernel=rbf, gamma=0.005, decision_function_shape=dag, C=700 .....\n",
            "[CV]  kernel=rbf, gamma=0.005, decision_function_shape=dag, C=700, score=0.450, total=   1.0s\n",
            "[CV] kernel=rbf, gamma=0.005, decision_function_shape=ovo, C=55 ......\n",
            "[CV]  kernel=rbf, gamma=0.005, decision_function_shape=ovo, C=55, score=0.455, total=   0.8s\n",
            "[CV] kernel=rbf, gamma=0.005, decision_function_shape=ovo, C=55 ......\n",
            "[CV]  kernel=rbf, gamma=0.005, decision_function_shape=ovo, C=55, score=0.484, total=   0.8s\n",
            "[CV] kernel=rbf, gamma=0.005, decision_function_shape=ovo, C=55 ......\n",
            "[CV]  kernel=rbf, gamma=0.005, decision_function_shape=ovo, C=55, score=0.472, total=   0.8s\n",
            "[CV] kernel=rbf, gamma=0.005, decision_function_shape=ovo, C=55 ......\n",
            "[CV]  kernel=rbf, gamma=0.005, decision_function_shape=ovo, C=55, score=0.448, total=   0.8s\n",
            "[CV] kernel=rbf, gamma=0.005, decision_function_shape=ovo, C=55 ......\n",
            "[CV]  kernel=rbf, gamma=0.005, decision_function_shape=ovo, C=55, score=0.463, total=   0.8s\n",
            "[CV] kernel=linear, gamma=1e-06, decision_function_shape=ovr, C=188 ..\n",
            "[CV]  kernel=linear, gamma=1e-06, decision_function_shape=ovr, C=188, score=0.456, total=   3.3s\n",
            "[CV] kernel=linear, gamma=1e-06, decision_function_shape=ovr, C=188 ..\n",
            "[CV]  kernel=linear, gamma=1e-06, decision_function_shape=ovr, C=188, score=0.497, total=   3.2s\n",
            "[CV] kernel=linear, gamma=1e-06, decision_function_shape=ovr, C=188 ..\n",
            "[CV]  kernel=linear, gamma=1e-06, decision_function_shape=ovr, C=188, score=0.472, total=   3.1s\n",
            "[CV] kernel=linear, gamma=1e-06, decision_function_shape=ovr, C=188 ..\n",
            "[CV]  kernel=linear, gamma=1e-06, decision_function_shape=ovr, C=188, score=0.466, total=   3.1s\n",
            "[CV] kernel=linear, gamma=1e-06, decision_function_shape=ovr, C=188 ..\n",
            "[CV]  kernel=linear, gamma=1e-06, decision_function_shape=ovr, C=188, score=0.452, total=   2.9s\n",
            "[CV] kernel=rbf, gamma=5e-05, decision_function_shape=dag, C=60 ......\n",
            "[CV]  kernel=rbf, gamma=5e-05, decision_function_shape=dag, C=60, score=0.372, total=   1.0s\n",
            "[CV] kernel=rbf, gamma=5e-05, decision_function_shape=dag, C=60 ......\n",
            "[CV]  kernel=rbf, gamma=5e-05, decision_function_shape=dag, C=60, score=0.420, total=   1.0s\n",
            "[CV] kernel=rbf, gamma=5e-05, decision_function_shape=dag, C=60 ......\n",
            "[CV]  kernel=rbf, gamma=5e-05, decision_function_shape=dag, C=60, score=0.375, total=   1.0s\n",
            "[CV] kernel=rbf, gamma=5e-05, decision_function_shape=dag, C=60 ......\n",
            "[CV]  kernel=rbf, gamma=5e-05, decision_function_shape=dag, C=60, score=0.380, total=   1.0s\n",
            "[CV] kernel=rbf, gamma=5e-05, decision_function_shape=dag, C=60 ......\n",
            "[CV]  kernel=rbf, gamma=5e-05, decision_function_shape=dag, C=60, score=0.405, total=   1.0s\n",
            "[CV] kernel=rbf, gamma=0.01, decision_function_shape=dag, C=280 ......\n",
            "[CV]  kernel=rbf, gamma=0.01, decision_function_shape=dag, C=280, score=0.455, total=   0.9s\n",
            "[CV] kernel=rbf, gamma=0.01, decision_function_shape=dag, C=280 ......\n",
            "[CV]  kernel=rbf, gamma=0.01, decision_function_shape=dag, C=280, score=0.491, total=   0.9s\n",
            "[CV] kernel=rbf, gamma=0.01, decision_function_shape=dag, C=280 ......\n",
            "[CV]  kernel=rbf, gamma=0.01, decision_function_shape=dag, C=280, score=0.477, total=   0.9s\n",
            "[CV] kernel=rbf, gamma=0.01, decision_function_shape=dag, C=280 ......\n",
            "[CV]  kernel=rbf, gamma=0.01, decision_function_shape=dag, C=280, score=0.466, total=   0.9s\n",
            "[CV] kernel=rbf, gamma=0.01, decision_function_shape=dag, C=280 ......\n",
            "[CV]  kernel=rbf, gamma=0.01, decision_function_shape=dag, C=280, score=0.448, total=   0.9s\n",
            "[CV] kernel=linear, gamma=0.1, decision_function_shape=ovo, C=657 ....\n",
            "[CV]  kernel=linear, gamma=0.1, decision_function_shape=ovo, C=657, score=0.457, total=   8.5s\n",
            "[CV] kernel=linear, gamma=0.1, decision_function_shape=ovo, C=657 ....\n",
            "[CV]  kernel=linear, gamma=0.1, decision_function_shape=ovo, C=657, score=0.496, total=   8.0s\n",
            "[CV] kernel=linear, gamma=0.1, decision_function_shape=ovo, C=657 ....\n",
            "[CV]  kernel=linear, gamma=0.1, decision_function_shape=ovo, C=657, score=0.473, total=   8.1s\n",
            "[CV] kernel=linear, gamma=0.1, decision_function_shape=ovo, C=657 ....\n",
            "[CV]  kernel=linear, gamma=0.1, decision_function_shape=ovo, C=657, score=0.468, total=   7.6s\n",
            "[CV] kernel=linear, gamma=0.1, decision_function_shape=ovo, C=657 ....\n",
            "[CV]  kernel=linear, gamma=0.1, decision_function_shape=ovo, C=657, score=0.452, total=   7.5s\n",
            "[CV] kernel=rbf, gamma=0.0005, decision_function_shape=ovo, C=618 ....\n",
            "[CV]  kernel=rbf, gamma=0.0005, decision_function_shape=ovo, C=618, score=0.449, total=   0.8s\n",
            "[CV] kernel=rbf, gamma=0.0005, decision_function_shape=ovo, C=618 ....\n",
            "[CV]  kernel=rbf, gamma=0.0005, decision_function_shape=ovo, C=618, score=0.483, total=   0.8s\n",
            "[CV] kernel=rbf, gamma=0.0005, decision_function_shape=ovo, C=618 ....\n",
            "[CV]  kernel=rbf, gamma=0.0005, decision_function_shape=ovo, C=618, score=0.472, total=   0.8s\n",
            "[CV] kernel=rbf, gamma=0.0005, decision_function_shape=ovo, C=618 ....\n",
            "[CV]  kernel=rbf, gamma=0.0005, decision_function_shape=ovo, C=618, score=0.449, total=   0.8s\n",
            "[CV] kernel=rbf, gamma=0.0005, decision_function_shape=ovo, C=618 ....\n",
            "[CV]  kernel=rbf, gamma=0.0005, decision_function_shape=ovo, C=618, score=0.461, total=   0.8s\n",
            "[CV] kernel=linear, gamma=0.005, decision_function_shape=dag, C=629 ..\n",
            "[CV]  kernel=linear, gamma=0.005, decision_function_shape=dag, C=629, score=0.457, total=   7.8s\n",
            "[CV] kernel=linear, gamma=0.005, decision_function_shape=dag, C=629 ..\n",
            "[CV]  kernel=linear, gamma=0.005, decision_function_shape=dag, C=629, score=0.496, total=   7.9s\n",
            "[CV] kernel=linear, gamma=0.005, decision_function_shape=dag, C=629 ..\n",
            "[CV]  kernel=linear, gamma=0.005, decision_function_shape=dag, C=629, score=0.473, total=   8.2s\n",
            "[CV] kernel=linear, gamma=0.005, decision_function_shape=dag, C=629 ..\n",
            "[CV]  kernel=linear, gamma=0.005, decision_function_shape=dag, C=629, score=0.468, total=   7.6s\n",
            "[CV] kernel=linear, gamma=0.005, decision_function_shape=dag, C=629 ..\n",
            "[CV]  kernel=linear, gamma=0.005, decision_function_shape=dag, C=629, score=0.452, total=   7.5s\n",
            "[CV] kernel=linear, gamma=1e-06, decision_function_shape=ovr, C=672 ..\n",
            "[CV]  kernel=linear, gamma=1e-06, decision_function_shape=ovr, C=672, score=0.457, total=   8.3s\n",
            "[CV] kernel=linear, gamma=1e-06, decision_function_shape=ovr, C=672 ..\n",
            "[CV]  kernel=linear, gamma=1e-06, decision_function_shape=ovr, C=672, score=0.496, total=   8.7s\n",
            "[CV] kernel=linear, gamma=1e-06, decision_function_shape=ovr, C=672 ..\n",
            "[CV]  kernel=linear, gamma=1e-06, decision_function_shape=ovr, C=672, score=0.473, total=   8.4s\n",
            "[CV] kernel=linear, gamma=1e-06, decision_function_shape=ovr, C=672 ..\n",
            "[CV]  kernel=linear, gamma=1e-06, decision_function_shape=ovr, C=672, score=0.468, total=   7.7s\n",
            "[CV] kernel=linear, gamma=1e-06, decision_function_shape=ovr, C=672 ..\n",
            "[CV]  kernel=linear, gamma=1e-06, decision_function_shape=ovr, C=672, score=0.452, total=   7.7s\n",
            "[CV] kernel=rbf, gamma=5e-05, decision_function_shape=ovr, C=994 .....\n",
            "[CV]  kernel=rbf, gamma=5e-05, decision_function_shape=ovr, C=994, score=0.438, total=   0.8s\n",
            "[CV] kernel=rbf, gamma=5e-05, decision_function_shape=ovr, C=994 .....\n",
            "[CV]  kernel=rbf, gamma=5e-05, decision_function_shape=ovr, C=994, score=0.483, total=   0.9s\n",
            "[CV] kernel=rbf, gamma=5e-05, decision_function_shape=ovr, C=994 .....\n",
            "[CV]  kernel=rbf, gamma=5e-05, decision_function_shape=ovr, C=994, score=0.444, total=   0.8s\n",
            "[CV] kernel=rbf, gamma=5e-05, decision_function_shape=ovr, C=994 .....\n",
            "[CV]  kernel=rbf, gamma=5e-05, decision_function_shape=ovr, C=994, score=0.441, total=   0.8s\n",
            "[CV] kernel=rbf, gamma=5e-05, decision_function_shape=ovr, C=994 .....\n",
            "[CV]  kernel=rbf, gamma=5e-05, decision_function_shape=ovr, C=994, score=0.432, total=   0.8s\n",
            "[CV] kernel=linear, gamma=0.01, decision_function_shape=dag, C=867 ...\n",
            "[CV]  kernel=linear, gamma=0.01, decision_function_shape=dag, C=867, score=0.456, total=   9.8s\n",
            "[CV] kernel=linear, gamma=0.01, decision_function_shape=dag, C=867 ...\n",
            "[CV]  kernel=linear, gamma=0.01, decision_function_shape=dag, C=867, score=0.496, total=  11.0s\n",
            "[CV] kernel=linear, gamma=0.01, decision_function_shape=dag, C=867 ...\n",
            "[CV]  kernel=linear, gamma=0.01, decision_function_shape=dag, C=867, score=0.473, total=  10.3s\n",
            "[CV] kernel=linear, gamma=0.01, decision_function_shape=dag, C=867 ...\n",
            "[CV]  kernel=linear, gamma=0.01, decision_function_shape=dag, C=867, score=0.467, total=   9.6s\n",
            "[CV] kernel=linear, gamma=0.01, decision_function_shape=dag, C=867 ...\n",
            "[CV]  kernel=linear, gamma=0.01, decision_function_shape=dag, C=867, score=0.453, total=   9.8s\n",
            "[CV] kernel=rbf, gamma=0.0001, decision_function_shape=ovo, C=331 ....\n",
            "[CV]  kernel=rbf, gamma=0.0001, decision_function_shape=ovo, C=331, score=0.432, total=   0.8s\n",
            "[CV] kernel=rbf, gamma=0.0001, decision_function_shape=ovo, C=331 ....\n",
            "[CV]  kernel=rbf, gamma=0.0001, decision_function_shape=ovo, C=331, score=0.479, total=   0.9s\n",
            "[CV] kernel=rbf, gamma=0.0001, decision_function_shape=ovo, C=331 ....\n",
            "[CV]  kernel=rbf, gamma=0.0001, decision_function_shape=ovo, C=331, score=0.437, total=   0.9s\n",
            "[CV] kernel=rbf, gamma=0.0001, decision_function_shape=ovo, C=331 ....\n",
            "[CV]  kernel=rbf, gamma=0.0001, decision_function_shape=ovo, C=331, score=0.434, total=   0.8s\n",
            "[CV] kernel=rbf, gamma=0.0001, decision_function_shape=ovo, C=331 ....\n",
            "[CV]  kernel=rbf, gamma=0.0001, decision_function_shape=ovo, C=331, score=0.423, total=   0.9s\n",
            "[CV] kernel=rbf, gamma=0.0001, decision_function_shape=ovo, C=789 ....\n",
            "[CV]  kernel=rbf, gamma=0.0001, decision_function_shape=ovo, C=789, score=0.439, total=   0.8s\n",
            "[CV] kernel=rbf, gamma=0.0001, decision_function_shape=ovo, C=789 ....\n",
            "[CV]  kernel=rbf, gamma=0.0001, decision_function_shape=ovo, C=789, score=0.492, total=   0.8s\n",
            "[CV] kernel=rbf, gamma=0.0001, decision_function_shape=ovo, C=789 ....\n",
            "[CV]  kernel=rbf, gamma=0.0001, decision_function_shape=ovo, C=789, score=0.455, total=   0.8s\n",
            "[CV] kernel=rbf, gamma=0.0001, decision_function_shape=ovo, C=789 ....\n",
            "[CV]  kernel=rbf, gamma=0.0001, decision_function_shape=ovo, C=789, score=0.445, total=   0.8s\n",
            "[CV] kernel=rbf, gamma=0.0001, decision_function_shape=ovo, C=789 ....\n",
            "[CV]  kernel=rbf, gamma=0.0001, decision_function_shape=ovo, C=789, score=0.439, total=   0.8s\n",
            "[CV] kernel=linear, gamma=0.0005, decision_function_shape=ovr, C=234 .\n",
            "[CV]  kernel=linear, gamma=0.0005, decision_function_shape=ovr, C=234, score=0.456, total=   3.7s\n",
            "[CV] kernel=linear, gamma=0.0005, decision_function_shape=ovr, C=234 .\n",
            "[CV]  kernel=linear, gamma=0.0005, decision_function_shape=ovr, C=234, score=0.496, total=   3.5s\n",
            "[CV] kernel=linear, gamma=0.0005, decision_function_shape=ovr, C=234 .\n",
            "[CV]  kernel=linear, gamma=0.0005, decision_function_shape=ovr, C=234, score=0.473, total=   3.6s\n",
            "[CV] kernel=linear, gamma=0.0005, decision_function_shape=ovr, C=234 .\n",
            "[CV]  kernel=linear, gamma=0.0005, decision_function_shape=ovr, C=234, score=0.466, total=   3.6s\n",
            "[CV] kernel=linear, gamma=0.0005, decision_function_shape=ovr, C=234 .\n",
            "[CV]  kernel=linear, gamma=0.0005, decision_function_shape=ovr, C=234, score=0.452, total=   3.5s\n",
            "[CV] kernel=linear, gamma=0.0005, decision_function_shape=ovr, C=288 .\n",
            "[CV]  kernel=linear, gamma=0.0005, decision_function_shape=ovr, C=288, score=0.456, total=   4.4s\n",
            "[CV] kernel=linear, gamma=0.0005, decision_function_shape=ovr, C=288 .\n",
            "[CV]  kernel=linear, gamma=0.0005, decision_function_shape=ovr, C=288, score=0.496, total=   3.9s\n",
            "[CV] kernel=linear, gamma=0.0005, decision_function_shape=ovr, C=288 .\n",
            "[CV]  kernel=linear, gamma=0.0005, decision_function_shape=ovr, C=288, score=0.473, total=   4.2s\n",
            "[CV] kernel=linear, gamma=0.0005, decision_function_shape=ovr, C=288 .\n",
            "[CV]  kernel=linear, gamma=0.0005, decision_function_shape=ovr, C=288, score=0.466, total=   4.1s\n",
            "[CV] kernel=linear, gamma=0.0005, decision_function_shape=ovr, C=288 .\n",
            "[CV]  kernel=linear, gamma=0.0005, decision_function_shape=ovr, C=288, score=0.452, total=   4.2s\n",
            "[CV] kernel=rbf, gamma=0.0005, decision_function_shape=dag, C=703 ....\n",
            "[CV]  kernel=rbf, gamma=0.0005, decision_function_shape=dag, C=703, score=0.450, total=   0.8s\n",
            "[CV] kernel=rbf, gamma=0.0005, decision_function_shape=dag, C=703 ....\n",
            "[CV]  kernel=rbf, gamma=0.0005, decision_function_shape=dag, C=703, score=0.486, total=   0.8s\n",
            "[CV] kernel=rbf, gamma=0.0005, decision_function_shape=dag, C=703 ....\n",
            "[CV]  kernel=rbf, gamma=0.0005, decision_function_shape=dag, C=703, score=0.474, total=   0.8s\n",
            "[CV] kernel=rbf, gamma=0.0005, decision_function_shape=dag, C=703 ....\n",
            "[CV]  kernel=rbf, gamma=0.0005, decision_function_shape=dag, C=703, score=0.454, total=   0.8s\n",
            "[CV] kernel=rbf, gamma=0.0005, decision_function_shape=dag, C=703 ....\n",
            "[CV]  kernel=rbf, gamma=0.0005, decision_function_shape=dag, C=703, score=0.461, total=   0.8s\n",
            "[CV] kernel=rbf, gamma=0.0001, decision_function_shape=ovr, C=125 ....\n",
            "[CV]  kernel=rbf, gamma=0.0001, decision_function_shape=ovr, C=125, score=0.410, total=   0.9s\n",
            "[CV] kernel=rbf, gamma=0.0001, decision_function_shape=ovr, C=125 ....\n",
            "[CV]  kernel=rbf, gamma=0.0001, decision_function_shape=ovr, C=125, score=0.458, total=   0.9s\n",
            "[CV] kernel=rbf, gamma=0.0001, decision_function_shape=ovr, C=125 ....\n",
            "[CV]  kernel=rbf, gamma=0.0001, decision_function_shape=ovr, C=125, score=0.422, total=   0.9s\n",
            "[CV] kernel=rbf, gamma=0.0001, decision_function_shape=ovr, C=125 ....\n",
            "[CV]  kernel=rbf, gamma=0.0001, decision_function_shape=ovr, C=125, score=0.423, total=   0.9s\n",
            "[CV] kernel=rbf, gamma=0.0001, decision_function_shape=ovr, C=125 ....\n",
            "[CV]  kernel=rbf, gamma=0.0001, decision_function_shape=ovr, C=125, score=0.419, total=   0.9s\n",
            "[CV] kernel=rbf, gamma=0.1, decision_function_shape=dag, C=435 .......\n",
            "[CV]  kernel=rbf, gamma=0.1, decision_function_shape=dag, C=435, score=0.480, total=   1.5s\n",
            "[CV] kernel=rbf, gamma=0.1, decision_function_shape=dag, C=435 .......\n",
            "[CV]  kernel=rbf, gamma=0.1, decision_function_shape=dag, C=435, score=0.503, total=   1.5s\n",
            "[CV] kernel=rbf, gamma=0.1, decision_function_shape=dag, C=435 .......\n",
            "[CV]  kernel=rbf, gamma=0.1, decision_function_shape=dag, C=435, score=0.469, total=   1.4s\n",
            "[CV] kernel=rbf, gamma=0.1, decision_function_shape=dag, C=435 .......\n",
            "[CV]  kernel=rbf, gamma=0.1, decision_function_shape=dag, C=435, score=0.468, total=   1.5s\n",
            "[CV] kernel=rbf, gamma=0.1, decision_function_shape=dag, C=435 .......\n",
            "[CV]  kernel=rbf, gamma=0.1, decision_function_shape=dag, C=435, score=0.470, total=   1.5s\n",
            "[CV] kernel=rbf, gamma=0.01, decision_function_shape=dag, C=45 .......\n",
            "[CV]  kernel=rbf, gamma=0.01, decision_function_shape=dag, C=45, score=0.457, total=   0.8s\n",
            "[CV] kernel=rbf, gamma=0.01, decision_function_shape=dag, C=45 .......\n",
            "[CV]  kernel=rbf, gamma=0.01, decision_function_shape=dag, C=45, score=0.498, total=   0.8s\n",
            "[CV] kernel=rbf, gamma=0.01, decision_function_shape=dag, C=45 .......\n",
            "[CV]  kernel=rbf, gamma=0.01, decision_function_shape=dag, C=45, score=0.472, total=   0.8s\n",
            "[CV] kernel=rbf, gamma=0.01, decision_function_shape=dag, C=45 .......\n",
            "[CV]  kernel=rbf, gamma=0.01, decision_function_shape=dag, C=45, score=0.449, total=   0.8s\n",
            "[CV] kernel=rbf, gamma=0.01, decision_function_shape=dag, C=45 .......\n",
            "[CV]  kernel=rbf, gamma=0.01, decision_function_shape=dag, C=45, score=0.454, total=   0.8s\n",
            "[CV] kernel=linear, gamma=1e-05, decision_function_shape=ovr, C=603 ..\n",
            "[CV]  kernel=linear, gamma=1e-05, decision_function_shape=ovr, C=603, score=0.457, total=   7.9s\n",
            "[CV] kernel=linear, gamma=1e-05, decision_function_shape=ovr, C=603 ..\n",
            "[CV]  kernel=linear, gamma=1e-05, decision_function_shape=ovr, C=603, score=0.496, total=   8.0s\n",
            "[CV] kernel=linear, gamma=1e-05, decision_function_shape=ovr, C=603 ..\n",
            "[CV]  kernel=linear, gamma=1e-05, decision_function_shape=ovr, C=603, score=0.473, total=   7.8s\n",
            "[CV] kernel=linear, gamma=1e-05, decision_function_shape=ovr, C=603 ..\n",
            "[CV]  kernel=linear, gamma=1e-05, decision_function_shape=ovr, C=603, score=0.468, total=   7.1s\n",
            "[CV] kernel=linear, gamma=1e-05, decision_function_shape=ovr, C=603 ..\n",
            "[CV]  kernel=linear, gamma=1e-05, decision_function_shape=ovr, C=603, score=0.452, total=   7.4s\n",
            "[CV] kernel=linear, gamma=0.1, decision_function_shape=dag, C=125 ....\n",
            "[CV]  kernel=linear, gamma=0.1, decision_function_shape=dag, C=125, score=0.456, total=   2.3s\n",
            "[CV] kernel=linear, gamma=0.1, decision_function_shape=dag, C=125 ....\n",
            "[CV]  kernel=linear, gamma=0.1, decision_function_shape=dag, C=125, score=0.496, total=   2.4s\n",
            "[CV] kernel=linear, gamma=0.1, decision_function_shape=dag, C=125 ....\n",
            "[CV]  kernel=linear, gamma=0.1, decision_function_shape=dag, C=125, score=0.472, total=   2.4s\n",
            "[CV] kernel=linear, gamma=0.1, decision_function_shape=dag, C=125 ....\n",
            "[CV]  kernel=linear, gamma=0.1, decision_function_shape=dag, C=125, score=0.466, total=   2.4s\n",
            "[CV] kernel=linear, gamma=0.1, decision_function_shape=dag, C=125 ....\n",
            "[CV]  kernel=linear, gamma=0.1, decision_function_shape=dag, C=125, score=0.452, total=   2.4s\n",
            "[CV] kernel=rbf, gamma=0.0001, decision_function_shape=ovo, C=256 ....\n",
            "[CV]  kernel=rbf, gamma=0.0001, decision_function_shape=ovo, C=256, score=0.423, total=   0.8s\n",
            "[CV] kernel=rbf, gamma=0.0001, decision_function_shape=ovo, C=256 ....\n",
            "[CV]  kernel=rbf, gamma=0.0001, decision_function_shape=ovo, C=256, score=0.473, total=   0.9s\n",
            "[CV] kernel=rbf, gamma=0.0001, decision_function_shape=ovo, C=256 ....\n",
            "[CV]  kernel=rbf, gamma=0.0001, decision_function_shape=ovo, C=256, score=0.430, total=   0.9s\n",
            "[CV] kernel=rbf, gamma=0.0001, decision_function_shape=ovo, C=256 ....\n",
            "[CV]  kernel=rbf, gamma=0.0001, decision_function_shape=ovo, C=256, score=0.432, total=   0.9s\n",
            "[CV] kernel=rbf, gamma=0.0001, decision_function_shape=ovo, C=256 ....\n",
            "[CV]  kernel=rbf, gamma=0.0001, decision_function_shape=ovo, C=256, score=0.421, total=   0.9s\n",
            "[CV] kernel=rbf, gamma=1e-06, decision_function_shape=ovr, C=251 .....\n",
            "[CV]  kernel=rbf, gamma=1e-06, decision_function_shape=ovr, C=251, score=0.252, total=   1.2s\n",
            "[CV] kernel=rbf, gamma=1e-06, decision_function_shape=ovr, C=251 .....\n",
            "[CV]  kernel=rbf, gamma=1e-06, decision_function_shape=ovr, C=251, score=0.289, total=   1.2s\n",
            "[CV] kernel=rbf, gamma=1e-06, decision_function_shape=ovr, C=251 .....\n",
            "[CV]  kernel=rbf, gamma=1e-06, decision_function_shape=ovr, C=251, score=0.264, total=   1.2s\n",
            "[CV] kernel=rbf, gamma=1e-06, decision_function_shape=ovr, C=251 .....\n",
            "[CV]  kernel=rbf, gamma=1e-06, decision_function_shape=ovr, C=251, score=0.270, total=   1.4s\n",
            "[CV] kernel=rbf, gamma=1e-06, decision_function_shape=ovr, C=251 .....\n",
            "[CV]  kernel=rbf, gamma=1e-06, decision_function_shape=ovr, C=251, score=0.280, total=   1.3s\n",
            "[CV] kernel=rbf, gamma=0.0005, decision_function_shape=ovo, C=643 ....\n",
            "[CV]  kernel=rbf, gamma=0.0005, decision_function_shape=ovo, C=643, score=0.452, total=   0.8s\n",
            "[CV] kernel=rbf, gamma=0.0005, decision_function_shape=ovo, C=643 ....\n",
            "[CV]  kernel=rbf, gamma=0.0005, decision_function_shape=ovo, C=643, score=0.484, total=   0.8s\n",
            "[CV] kernel=rbf, gamma=0.0005, decision_function_shape=ovo, C=643 ....\n",
            "[CV]  kernel=rbf, gamma=0.0005, decision_function_shape=ovo, C=643, score=0.473, total=   0.8s\n",
            "[CV] kernel=rbf, gamma=0.0005, decision_function_shape=ovo, C=643 ....\n",
            "[CV]  kernel=rbf, gamma=0.0005, decision_function_shape=ovo, C=643, score=0.452, total=   0.8s\n",
            "[CV] kernel=rbf, gamma=0.0005, decision_function_shape=ovo, C=643 ....\n",
            "[CV]  kernel=rbf, gamma=0.0005, decision_function_shape=ovo, C=643, score=0.461, total=   0.8s\n",
            "[CV] kernel=linear, gamma=0.001, decision_function_shape=ovr, C=63 ...\n",
            "[CV]  kernel=linear, gamma=0.001, decision_function_shape=ovr, C=63, score=0.456, total=   1.5s\n",
            "[CV] kernel=linear, gamma=0.001, decision_function_shape=ovr, C=63 ...\n",
            "[CV]  kernel=linear, gamma=0.001, decision_function_shape=ovr, C=63, score=0.497, total=   1.5s\n",
            "[CV] kernel=linear, gamma=0.001, decision_function_shape=ovr, C=63 ...\n",
            "[CV]  kernel=linear, gamma=0.001, decision_function_shape=ovr, C=63, score=0.471, total=   1.5s\n",
            "[CV] kernel=linear, gamma=0.001, decision_function_shape=ovr, C=63 ...\n",
            "[CV]  kernel=linear, gamma=0.001, decision_function_shape=ovr, C=63, score=0.466, total=   1.5s\n",
            "[CV] kernel=linear, gamma=0.001, decision_function_shape=ovr, C=63 ...\n",
            "[CV]  kernel=linear, gamma=0.001, decision_function_shape=ovr, C=63, score=0.452, total=   1.5s\n",
            "[CV] kernel=rbf, gamma=0.0001, decision_function_shape=ovo, C=182 ....\n",
            "[CV]  kernel=rbf, gamma=0.0001, decision_function_shape=ovo, C=182, score=0.415, total=   0.9s\n",
            "[CV] kernel=rbf, gamma=0.0001, decision_function_shape=ovo, C=182 ....\n",
            "[CV]  kernel=rbf, gamma=0.0001, decision_function_shape=ovo, C=182, score=0.463, total=   0.9s\n",
            "[CV] kernel=rbf, gamma=0.0001, decision_function_shape=ovo, C=182 ....\n",
            "[CV]  kernel=rbf, gamma=0.0001, decision_function_shape=ovo, C=182, score=0.427, total=   0.9s\n",
            "[CV] kernel=rbf, gamma=0.0001, decision_function_shape=ovo, C=182 ....\n",
            "[CV]  kernel=rbf, gamma=0.0001, decision_function_shape=ovo, C=182, score=0.439, total=   0.9s\n",
            "[CV] kernel=rbf, gamma=0.0001, decision_function_shape=ovo, C=182 ....\n",
            "[CV]  kernel=rbf, gamma=0.0001, decision_function_shape=ovo, C=182, score=0.422, total=   0.9s\n",
            "[CV] kernel=linear, gamma=0.005, decision_function_shape=ovr, C=212 ..\n",
            "[CV]  kernel=linear, gamma=0.005, decision_function_shape=ovr, C=212, score=0.456, total=   3.5s\n",
            "[CV] kernel=linear, gamma=0.005, decision_function_shape=ovr, C=212 ..\n",
            "[CV]  kernel=linear, gamma=0.005, decision_function_shape=ovr, C=212, score=0.496, total=   3.5s\n",
            "[CV] kernel=linear, gamma=0.005, decision_function_shape=ovr, C=212 ..\n",
            "[CV]  kernel=linear, gamma=0.005, decision_function_shape=ovr, C=212, score=0.473, total=   3.4s\n",
            "[CV] kernel=linear, gamma=0.005, decision_function_shape=ovr, C=212 ..\n",
            "[CV]  kernel=linear, gamma=0.005, decision_function_shape=ovr, C=212, score=0.467, total=   3.3s\n",
            "[CV] kernel=linear, gamma=0.005, decision_function_shape=ovr, C=212 ..\n",
            "[CV]  kernel=linear, gamma=0.005, decision_function_shape=ovr, C=212, score=0.452, total=   3.2s\n",
            "[CV] kernel=linear, gamma=5e-05, decision_function_shape=dag, C=411 ..\n",
            "[CV]  kernel=linear, gamma=5e-05, decision_function_shape=dag, C=411, score=0.456, total=   5.7s\n",
            "[CV] kernel=linear, gamma=5e-05, decision_function_shape=dag, C=411 ..\n",
            "[CV]  kernel=linear, gamma=5e-05, decision_function_shape=dag, C=411, score=0.496, total=   5.6s\n",
            "[CV] kernel=linear, gamma=5e-05, decision_function_shape=dag, C=411 ..\n",
            "[CV]  kernel=linear, gamma=5e-05, decision_function_shape=dag, C=411, score=0.473, total=   5.6s\n",
            "[CV] kernel=linear, gamma=5e-05, decision_function_shape=dag, C=411 ..\n",
            "[CV]  kernel=linear, gamma=5e-05, decision_function_shape=dag, C=411, score=0.467, total=   5.4s\n",
            "[CV] kernel=linear, gamma=5e-05, decision_function_shape=dag, C=411 ..\n",
            "[CV]  kernel=linear, gamma=5e-05, decision_function_shape=dag, C=411, score=0.452, total=   5.3s\n",
            "[CV] kernel=rbf, gamma=0.0005, decision_function_shape=dag, C=81 .....\n",
            "[CV]  kernel=rbf, gamma=0.0005, decision_function_shape=dag, C=81, score=0.432, total=   0.8s\n",
            "[CV] kernel=rbf, gamma=0.0005, decision_function_shape=dag, C=81 .....\n",
            "[CV]  kernel=rbf, gamma=0.0005, decision_function_shape=dag, C=81, score=0.483, total=   0.9s\n",
            "[CV] kernel=rbf, gamma=0.0005, decision_function_shape=dag, C=81 .....\n",
            "[CV]  kernel=rbf, gamma=0.0005, decision_function_shape=dag, C=81, score=0.440, total=   0.8s\n",
            "[CV] kernel=rbf, gamma=0.0005, decision_function_shape=dag, C=81 .....\n",
            "[CV]  kernel=rbf, gamma=0.0005, decision_function_shape=dag, C=81, score=0.436, total=   0.8s\n",
            "[CV] kernel=rbf, gamma=0.0005, decision_function_shape=dag, C=81 .....\n",
            "[CV]  kernel=rbf, gamma=0.0005, decision_function_shape=dag, C=81, score=0.433, total=   0.8s\n",
            "[CV] kernel=rbf, gamma=1e-05, decision_function_shape=ovo, C=600 .....\n",
            "[CV]  kernel=rbf, gamma=1e-05, decision_function_shape=ovo, C=600, score=0.401, total=   0.9s\n",
            "[CV] kernel=rbf, gamma=1e-05, decision_function_shape=ovo, C=600 .....\n",
            "[CV]  kernel=rbf, gamma=1e-05, decision_function_shape=ovo, C=600, score=0.437, total=   1.0s\n",
            "[CV] kernel=rbf, gamma=1e-05, decision_function_shape=ovo, C=600 .....\n",
            "[CV]  kernel=rbf, gamma=1e-05, decision_function_shape=ovo, C=600, score=0.395, total=   0.9s\n",
            "[CV] kernel=rbf, gamma=1e-05, decision_function_shape=ovo, C=600 .....\n",
            "[CV]  kernel=rbf, gamma=1e-05, decision_function_shape=ovo, C=600, score=0.398, total=   0.9s\n",
            "[CV] kernel=rbf, gamma=1e-05, decision_function_shape=ovo, C=600 .....\n",
            "[CV]  kernel=rbf, gamma=1e-05, decision_function_shape=ovo, C=600, score=0.413, total=   0.9s\n",
            "[CV] kernel=linear, gamma=5e-05, decision_function_shape=dag, C=307 ..\n",
            "[CV]  kernel=linear, gamma=5e-05, decision_function_shape=dag, C=307, score=0.456, total=   4.6s\n",
            "[CV] kernel=linear, gamma=5e-05, decision_function_shape=dag, C=307 ..\n",
            "[CV]  kernel=linear, gamma=5e-05, decision_function_shape=dag, C=307, score=0.496, total=   4.5s\n",
            "[CV] kernel=linear, gamma=5e-05, decision_function_shape=dag, C=307 ..\n",
            "[CV]  kernel=linear, gamma=5e-05, decision_function_shape=dag, C=307, score=0.473, total=   4.4s\n",
            "[CV] kernel=linear, gamma=5e-05, decision_function_shape=dag, C=307 ..\n",
            "[CV]  kernel=linear, gamma=5e-05, decision_function_shape=dag, C=307, score=0.466, total=   4.4s\n",
            "[CV] kernel=linear, gamma=5e-05, decision_function_shape=dag, C=307 ..\n",
            "[CV]  kernel=linear, gamma=5e-05, decision_function_shape=dag, C=307, score=0.452, total=   4.2s\n",
            "[CV] kernel=rbf, gamma=0.005, decision_function_shape=ovr, C=130 .....\n",
            "[CV]  kernel=rbf, gamma=0.005, decision_function_shape=ovr, C=130, score=0.458, total=   0.8s\n",
            "[CV] kernel=rbf, gamma=0.005, decision_function_shape=ovr, C=130 .....\n",
            "[CV]  kernel=rbf, gamma=0.005, decision_function_shape=ovr, C=130, score=0.499, total=   0.8s\n",
            "[CV] kernel=rbf, gamma=0.005, decision_function_shape=ovr, C=130 .....\n",
            "[CV]  kernel=rbf, gamma=0.005, decision_function_shape=ovr, C=130, score=0.472, total=   0.8s\n",
            "[CV] kernel=rbf, gamma=0.005, decision_function_shape=ovr, C=130 .....\n",
            "[CV]  kernel=rbf, gamma=0.005, decision_function_shape=ovr, C=130, score=0.453, total=   0.8s\n",
            "[CV] kernel=rbf, gamma=0.005, decision_function_shape=ovr, C=130 .....\n",
            "[CV]  kernel=rbf, gamma=0.005, decision_function_shape=ovr, C=130, score=0.458, total=   0.8s\n",
            "[CV] kernel=rbf, gamma=0.001, decision_function_shape=dag, C=526 .....\n",
            "[CV]  kernel=rbf, gamma=0.001, decision_function_shape=dag, C=526, score=0.453, total=   0.8s\n",
            "[CV] kernel=rbf, gamma=0.001, decision_function_shape=dag, C=526 .....\n",
            "[CV]  kernel=rbf, gamma=0.001, decision_function_shape=dag, C=526, score=0.487, total=   0.8s\n",
            "[CV] kernel=rbf, gamma=0.001, decision_function_shape=dag, C=526 .....\n",
            "[CV]  kernel=rbf, gamma=0.001, decision_function_shape=dag, C=526, score=0.474, total=   0.8s\n",
            "[CV] kernel=rbf, gamma=0.001, decision_function_shape=dag, C=526 .....\n",
            "[CV]  kernel=rbf, gamma=0.001, decision_function_shape=dag, C=526, score=0.449, total=   0.8s\n",
            "[CV] kernel=rbf, gamma=0.001, decision_function_shape=dag, C=526 .....\n",
            "[CV]  kernel=rbf, gamma=0.001, decision_function_shape=dag, C=526, score=0.460, total=   0.8s\n",
            "[CV] kernel=linear, gamma=0.0001, decision_function_shape=dag, C=284 .\n",
            "[CV]  kernel=linear, gamma=0.0001, decision_function_shape=dag, C=284, score=0.456, total=   4.2s\n",
            "[CV] kernel=linear, gamma=0.0001, decision_function_shape=dag, C=284 .\n",
            "[CV]  kernel=linear, gamma=0.0001, decision_function_shape=dag, C=284, score=0.496, total=   4.1s\n",
            "[CV] kernel=linear, gamma=0.0001, decision_function_shape=dag, C=284 .\n",
            "[CV]  kernel=linear, gamma=0.0001, decision_function_shape=dag, C=284, score=0.473, total=   4.4s\n",
            "[CV] kernel=linear, gamma=0.0001, decision_function_shape=dag, C=284 .\n",
            "[CV]  kernel=linear, gamma=0.0001, decision_function_shape=dag, C=284, score=0.466, total=   4.0s\n",
            "[CV] kernel=linear, gamma=0.0001, decision_function_shape=dag, C=284 .\n",
            "[CV]  kernel=linear, gamma=0.0001, decision_function_shape=dag, C=284, score=0.452, total=   4.1s\n",
            "[CV] kernel=linear, gamma=0.1, decision_function_shape=dag, C=387 ....\n",
            "[CV]  kernel=linear, gamma=0.1, decision_function_shape=dag, C=387, score=0.456, total=   5.5s\n",
            "[CV] kernel=linear, gamma=0.1, decision_function_shape=dag, C=387 ....\n",
            "[CV]  kernel=linear, gamma=0.1, decision_function_shape=dag, C=387, score=0.496, total=   5.3s\n",
            "[CV] kernel=linear, gamma=0.1, decision_function_shape=dag, C=387 ....\n",
            "[CV]  kernel=linear, gamma=0.1, decision_function_shape=dag, C=387, score=0.473, total=   5.4s\n",
            "[CV] kernel=linear, gamma=0.1, decision_function_shape=dag, C=387 ....\n",
            "[CV]  kernel=linear, gamma=0.1, decision_function_shape=dag, C=387, score=0.466, total=   5.3s\n",
            "[CV] kernel=linear, gamma=0.1, decision_function_shape=dag, C=387 ....\n",
            "[CV]  kernel=linear, gamma=0.1, decision_function_shape=dag, C=387, score=0.452, total=   5.1s\n",
            "[CV] kernel=linear, gamma=1e-05, decision_function_shape=dag, C=183 ..\n",
            "[CV]  kernel=linear, gamma=1e-05, decision_function_shape=dag, C=183, score=0.456, total=   3.1s\n",
            "[CV] kernel=linear, gamma=1e-05, decision_function_shape=dag, C=183 ..\n",
            "[CV]  kernel=linear, gamma=1e-05, decision_function_shape=dag, C=183, score=0.497, total=   3.0s\n",
            "[CV] kernel=linear, gamma=1e-05, decision_function_shape=dag, C=183 ..\n",
            "[CV]  kernel=linear, gamma=1e-05, decision_function_shape=dag, C=183, score=0.472, total=   3.0s\n",
            "[CV] kernel=linear, gamma=1e-05, decision_function_shape=dag, C=183 ..\n",
            "[CV]  kernel=linear, gamma=1e-05, decision_function_shape=dag, C=183, score=0.466, total=   3.1s\n",
            "[CV] kernel=linear, gamma=1e-05, decision_function_shape=dag, C=183 ..\n",
            "[CV]  kernel=linear, gamma=1e-05, decision_function_shape=dag, C=183, score=0.452, total=   2.9s\n",
            "[CV] kernel=rbf, gamma=0.01, decision_function_shape=ovo, C=207 ......\n",
            "[CV]  kernel=rbf, gamma=0.01, decision_function_shape=ovo, C=207, score=0.453, total=   0.9s\n",
            "[CV] kernel=rbf, gamma=0.01, decision_function_shape=ovo, C=207 ......\n",
            "[CV]  kernel=rbf, gamma=0.01, decision_function_shape=ovo, C=207, score=0.493, total=   0.9s\n",
            "[CV] kernel=rbf, gamma=0.01, decision_function_shape=ovo, C=207 ......\n",
            "[CV]  kernel=rbf, gamma=0.01, decision_function_shape=ovo, C=207, score=0.474, total=   0.9s\n",
            "[CV] kernel=rbf, gamma=0.01, decision_function_shape=ovo, C=207 ......\n",
            "[CV]  kernel=rbf, gamma=0.01, decision_function_shape=ovo, C=207, score=0.466, total=   0.9s\n",
            "[CV] kernel=rbf, gamma=0.01, decision_function_shape=ovo, C=207 ......\n",
            "[CV]  kernel=rbf, gamma=0.01, decision_function_shape=ovo, C=207, score=0.446, total=   0.9s\n",
            "[CV] kernel=linear, gamma=0.005, decision_function_shape=ovr, C=513 ..\n",
            "[CV]  kernel=linear, gamma=0.005, decision_function_shape=ovr, C=513, score=0.457, total=   6.7s\n",
            "[CV] kernel=linear, gamma=0.005, decision_function_shape=ovr, C=513 ..\n",
            "[CV]  kernel=linear, gamma=0.005, decision_function_shape=ovr, C=513, score=0.496, total=   6.9s\n",
            "[CV] kernel=linear, gamma=0.005, decision_function_shape=ovr, C=513 ..\n",
            "[CV]  kernel=linear, gamma=0.005, decision_function_shape=ovr, C=513, score=0.473, total=   6.9s\n",
            "[CV] kernel=linear, gamma=0.005, decision_function_shape=ovr, C=513 ..\n",
            "[CV]  kernel=linear, gamma=0.005, decision_function_shape=ovr, C=513, score=0.467, total=   6.6s\n",
            "[CV] kernel=linear, gamma=0.005, decision_function_shape=ovr, C=513 ..\n",
            "[CV]  kernel=linear, gamma=0.005, decision_function_shape=ovr, C=513, score=0.452, total=   6.1s\n",
            "[CV] kernel=linear, gamma=5e-05, decision_function_shape=ovr, C=93 ...\n",
            "[CV]  kernel=linear, gamma=5e-05, decision_function_shape=ovr, C=93, score=0.456, total=   2.0s\n",
            "[CV] kernel=linear, gamma=5e-05, decision_function_shape=ovr, C=93 ...\n",
            "[CV]  kernel=linear, gamma=5e-05, decision_function_shape=ovr, C=93, score=0.496, total=   2.0s\n",
            "[CV] kernel=linear, gamma=5e-05, decision_function_shape=ovr, C=93 ...\n",
            "[CV]  kernel=linear, gamma=5e-05, decision_function_shape=ovr, C=93, score=0.472, total=   2.1s\n",
            "[CV] kernel=linear, gamma=5e-05, decision_function_shape=ovr, C=93 ...\n",
            "[CV]  kernel=linear, gamma=5e-05, decision_function_shape=ovr, C=93, score=0.466, total=   1.9s\n",
            "[CV] kernel=linear, gamma=5e-05, decision_function_shape=ovr, C=93 ...\n",
            "[CV]  kernel=linear, gamma=5e-05, decision_function_shape=ovr, C=93, score=0.452, total=   2.0s\n",
            "[CV] kernel=rbf, gamma=0.0005, decision_function_shape=ovr, C=892 ....\n",
            "[CV]  kernel=rbf, gamma=0.0005, decision_function_shape=ovr, C=892, score=0.456, total=   0.8s\n",
            "[CV] kernel=rbf, gamma=0.0005, decision_function_shape=ovr, C=892 ....\n",
            "[CV]  kernel=rbf, gamma=0.0005, decision_function_shape=ovr, C=892, score=0.486, total=   0.8s\n",
            "[CV] kernel=rbf, gamma=0.0005, decision_function_shape=ovr, C=892 ....\n",
            "[CV]  kernel=rbf, gamma=0.0005, decision_function_shape=ovr, C=892, score=0.472, total=   0.8s\n",
            "[CV] kernel=rbf, gamma=0.0005, decision_function_shape=ovr, C=892 ....\n",
            "[CV]  kernel=rbf, gamma=0.0005, decision_function_shape=ovr, C=892, score=0.455, total=   0.8s\n",
            "[CV] kernel=rbf, gamma=0.0005, decision_function_shape=ovr, C=892 ....\n",
            "[CV]  kernel=rbf, gamma=0.0005, decision_function_shape=ovr, C=892, score=0.455, total=   0.8s\n",
            "[CV] kernel=rbf, gamma=5e-05, decision_function_shape=dag, C=284 .....\n",
            "[CV]  kernel=rbf, gamma=5e-05, decision_function_shape=dag, C=284, score=0.410, total=   0.9s\n",
            "[CV] kernel=rbf, gamma=5e-05, decision_function_shape=dag, C=284 .....\n",
            "[CV]  kernel=rbf, gamma=5e-05, decision_function_shape=dag, C=284, score=0.458, total=   0.9s\n",
            "[CV] kernel=rbf, gamma=5e-05, decision_function_shape=dag, C=284 .....\n",
            "[CV]  kernel=rbf, gamma=5e-05, decision_function_shape=dag, C=284, score=0.427, total=   0.9s\n",
            "[CV] kernel=rbf, gamma=5e-05, decision_function_shape=dag, C=284 .....\n",
            "[CV]  kernel=rbf, gamma=5e-05, decision_function_shape=dag, C=284, score=0.431, total=   0.9s\n",
            "[CV] kernel=rbf, gamma=5e-05, decision_function_shape=dag, C=284 .....\n",
            "[CV]  kernel=rbf, gamma=5e-05, decision_function_shape=dag, C=284, score=0.427, total=   0.9s\n",
            "[CV] kernel=rbf, gamma=0.0001, decision_function_shape=ovo, C=762 ....\n",
            "[CV]  kernel=rbf, gamma=0.0001, decision_function_shape=ovo, C=762, score=0.440, total=   0.8s\n",
            "[CV] kernel=rbf, gamma=0.0001, decision_function_shape=ovo, C=762 ....\n",
            "[CV]  kernel=rbf, gamma=0.0001, decision_function_shape=ovo, C=762, score=0.491, total=   0.8s\n",
            "[CV] kernel=rbf, gamma=0.0001, decision_function_shape=ovo, C=762 ....\n",
            "[CV]  kernel=rbf, gamma=0.0001, decision_function_shape=ovo, C=762, score=0.453, total=   0.8s\n",
            "[CV] kernel=rbf, gamma=0.0001, decision_function_shape=ovo, C=762 ....\n",
            "[CV]  kernel=rbf, gamma=0.0001, decision_function_shape=ovo, C=762, score=0.445, total=   0.8s\n",
            "[CV] kernel=rbf, gamma=0.0001, decision_function_shape=ovo, C=762 ....\n",
            "[CV]  kernel=rbf, gamma=0.0001, decision_function_shape=ovo, C=762, score=0.436, total=   0.8s\n",
            "[CV] kernel=rbf, gamma=1e-05, decision_function_shape=ovr, C=964 .....\n",
            "[CV]  kernel=rbf, gamma=1e-05, decision_function_shape=ovr, C=964, score=0.412, total=   0.9s\n",
            "[CV] kernel=rbf, gamma=1e-05, decision_function_shape=ovr, C=964 .....\n",
            "[CV]  kernel=rbf, gamma=1e-05, decision_function_shape=ovr, C=964, score=0.450, total=   1.0s\n",
            "[CV] kernel=rbf, gamma=1e-05, decision_function_shape=ovr, C=964 .....\n",
            "[CV]  kernel=rbf, gamma=1e-05, decision_function_shape=ovr, C=964, score=0.409, total=   0.9s\n",
            "[CV] kernel=rbf, gamma=1e-05, decision_function_shape=ovr, C=964 .....\n",
            "[CV]  kernel=rbf, gamma=1e-05, decision_function_shape=ovr, C=964, score=0.418, total=   0.9s\n",
            "[CV] kernel=rbf, gamma=1e-05, decision_function_shape=ovr, C=964 .....\n",
            "[CV]  kernel=rbf, gamma=1e-05, decision_function_shape=ovr, C=964, score=0.418, total=   0.9s\n",
            "[CV] kernel=linear, gamma=1e-06, decision_function_shape=dag, C=691 ..\n",
            "[CV]  kernel=linear, gamma=1e-06, decision_function_shape=dag, C=691, score=0.457, total=   8.9s\n",
            "[CV] kernel=linear, gamma=1e-06, decision_function_shape=dag, C=691 ..\n",
            "[CV]  kernel=linear, gamma=1e-06, decision_function_shape=dag, C=691, score=0.496, total=   8.7s\n",
            "[CV] kernel=linear, gamma=1e-06, decision_function_shape=dag, C=691 ..\n",
            "[CV]  kernel=linear, gamma=1e-06, decision_function_shape=dag, C=691, score=0.473, total=   8.6s\n",
            "[CV] kernel=linear, gamma=1e-06, decision_function_shape=dag, C=691 ..\n",
            "[CV]  kernel=linear, gamma=1e-06, decision_function_shape=dag, C=691, score=0.467, total=   8.2s\n",
            "[CV] kernel=linear, gamma=1e-06, decision_function_shape=dag, C=691 ..\n",
            "[CV]  kernel=linear, gamma=1e-06, decision_function_shape=dag, C=691, score=0.453, total=   7.8s\n",
            "[CV] kernel=rbf, gamma=1e-06, decision_function_shape=ovo, C=868 .....\n",
            "[CV]  kernel=rbf, gamma=1e-06, decision_function_shape=ovo, C=868, score=0.336, total=   1.1s\n",
            "[CV] kernel=rbf, gamma=1e-06, decision_function_shape=ovo, C=868 .....\n",
            "[CV]  kernel=rbf, gamma=1e-06, decision_function_shape=ovo, C=868, score=0.355, total=   1.1s\n",
            "[CV] kernel=rbf, gamma=1e-06, decision_function_shape=ovo, C=868 .....\n",
            "[CV]  kernel=rbf, gamma=1e-06, decision_function_shape=ovo, C=868, score=0.335, total=   1.1s\n",
            "[CV] kernel=rbf, gamma=1e-06, decision_function_shape=ovo, C=868 .....\n",
            "[CV]  kernel=rbf, gamma=1e-06, decision_function_shape=ovo, C=868, score=0.344, total=   1.1s\n",
            "[CV] kernel=rbf, gamma=1e-06, decision_function_shape=ovo, C=868 .....\n",
            "[CV]  kernel=rbf, gamma=1e-06, decision_function_shape=ovo, C=868, score=0.337, total=   1.1s\n",
            "[CV] kernel=linear, gamma=0.0005, decision_function_shape=ovr, C=310 .\n",
            "[CV]  kernel=linear, gamma=0.0005, decision_function_shape=ovr, C=310, score=0.456, total=   4.5s\n",
            "[CV] kernel=linear, gamma=0.0005, decision_function_shape=ovr, C=310 .\n",
            "[CV]  kernel=linear, gamma=0.0005, decision_function_shape=ovr, C=310, score=0.496, total=   4.6s\n",
            "[CV] kernel=linear, gamma=0.0005, decision_function_shape=ovr, C=310 .\n",
            "[CV]  kernel=linear, gamma=0.0005, decision_function_shape=ovr, C=310, score=0.473, total=   4.5s\n",
            "[CV] kernel=linear, gamma=0.0005, decision_function_shape=ovr, C=310 .\n",
            "[CV]  kernel=linear, gamma=0.0005, decision_function_shape=ovr, C=310, score=0.466, total=   4.2s\n",
            "[CV] kernel=linear, gamma=0.0005, decision_function_shape=ovr, C=310 .\n",
            "[CV]  kernel=linear, gamma=0.0005, decision_function_shape=ovr, C=310, score=0.452, total=   4.3s\n",
            "[CV] kernel=rbf, gamma=0.01, decision_function_shape=dag, C=755 ......\n",
            "[CV]  kernel=rbf, gamma=0.01, decision_function_shape=dag, C=755, score=0.455, total=   1.0s\n",
            "[CV] kernel=rbf, gamma=0.01, decision_function_shape=dag, C=755 ......\n",
            "[CV]  kernel=rbf, gamma=0.01, decision_function_shape=dag, C=755, score=0.493, total=   1.1s\n",
            "[CV] kernel=rbf, gamma=0.01, decision_function_shape=dag, C=755 ......\n",
            "[CV]  kernel=rbf, gamma=0.01, decision_function_shape=dag, C=755, score=0.474, total=   1.0s\n",
            "[CV] kernel=rbf, gamma=0.01, decision_function_shape=dag, C=755 ......\n",
            "[CV]  kernel=rbf, gamma=0.01, decision_function_shape=dag, C=755, score=0.463, total=   1.0s\n",
            "[CV] kernel=rbf, gamma=0.01, decision_function_shape=dag, C=755 ......\n",
            "[CV]  kernel=rbf, gamma=0.01, decision_function_shape=dag, C=755, score=0.445, total=   1.0s\n",
            "[CV] kernel=linear, gamma=0.005, decision_function_shape=ovo, C=797 ..\n",
            "[CV]  kernel=linear, gamma=0.005, decision_function_shape=ovo, C=797, score=0.456, total=   9.3s\n",
            "[CV] kernel=linear, gamma=0.005, decision_function_shape=ovo, C=797 ..\n",
            "[CV]  kernel=linear, gamma=0.005, decision_function_shape=ovo, C=797, score=0.496, total=   9.4s\n",
            "[CV] kernel=linear, gamma=0.005, decision_function_shape=ovo, C=797 ..\n",
            "[CV]  kernel=linear, gamma=0.005, decision_function_shape=ovo, C=797, score=0.473, total=  10.0s\n",
            "[CV] kernel=linear, gamma=0.005, decision_function_shape=ovo, C=797 ..\n",
            "[CV]  kernel=linear, gamma=0.005, decision_function_shape=ovo, C=797, score=0.467, total=   9.5s\n",
            "[CV] kernel=linear, gamma=0.005, decision_function_shape=ovo, C=797 ..\n",
            "[CV]  kernel=linear, gamma=0.005, decision_function_shape=ovo, C=797, score=0.453, total=   9.0s\n",
            "[CV] kernel=linear, gamma=0.1, decision_function_shape=ovo, C=618 ....\n",
            "[CV]  kernel=linear, gamma=0.1, decision_function_shape=ovo, C=618, score=0.457, total=   8.2s\n",
            "[CV] kernel=linear, gamma=0.1, decision_function_shape=ovo, C=618 ....\n",
            "[CV]  kernel=linear, gamma=0.1, decision_function_shape=ovo, C=618, score=0.496, total=   8.0s\n",
            "[CV] kernel=linear, gamma=0.1, decision_function_shape=ovo, C=618 ....\n",
            "[CV]  kernel=linear, gamma=0.1, decision_function_shape=ovo, C=618, score=0.473, total=   7.9s\n",
            "[CV] kernel=linear, gamma=0.1, decision_function_shape=ovo, C=618 ....\n",
            "[CV]  kernel=linear, gamma=0.1, decision_function_shape=ovo, C=618, score=0.468, total=   7.5s\n",
            "[CV] kernel=linear, gamma=0.1, decision_function_shape=ovo, C=618 ....\n",
            "[CV]  kernel=linear, gamma=0.1, decision_function_shape=ovo, C=618, score=0.452, total=   7.3s\n",
            "[CV] kernel=rbf, gamma=0.1, decision_function_shape=ovr, C=275 .......\n",
            "[CV]  kernel=rbf, gamma=0.1, decision_function_shape=ovr, C=275, score=0.477, total=   1.3s\n",
            "[CV] kernel=rbf, gamma=0.1, decision_function_shape=ovr, C=275 .......\n",
            "[CV]  kernel=rbf, gamma=0.1, decision_function_shape=ovr, C=275, score=0.503, total=   1.3s\n",
            "[CV] kernel=rbf, gamma=0.1, decision_function_shape=ovr, C=275 .......\n",
            "[CV]  kernel=rbf, gamma=0.1, decision_function_shape=ovr, C=275, score=0.469, total=   1.3s\n",
            "[CV] kernel=rbf, gamma=0.1, decision_function_shape=ovr, C=275 .......\n",
            "[CV]  kernel=rbf, gamma=0.1, decision_function_shape=ovr, C=275, score=0.465, total=   1.3s\n",
            "[CV] kernel=rbf, gamma=0.1, decision_function_shape=ovr, C=275 .......\n",
            "[CV]  kernel=rbf, gamma=0.1, decision_function_shape=ovr, C=275, score=0.464, total=   1.3s\n",
            "[CV] kernel=linear, gamma=1e-06, decision_function_shape=dag, C=819 ..\n",
            "[CV]  kernel=linear, gamma=1e-06, decision_function_shape=dag, C=819, score=0.456, total=  10.1s\n",
            "[CV] kernel=linear, gamma=1e-06, decision_function_shape=dag, C=819 ..\n",
            "[CV]  kernel=linear, gamma=1e-06, decision_function_shape=dag, C=819, score=0.496, total=  10.0s\n",
            "[CV] kernel=linear, gamma=1e-06, decision_function_shape=dag, C=819 ..\n",
            "[CV]  kernel=linear, gamma=1e-06, decision_function_shape=dag, C=819, score=0.473, total=  10.0s\n",
            "[CV] kernel=linear, gamma=1e-06, decision_function_shape=dag, C=819 ..\n",
            "[CV]  kernel=linear, gamma=1e-06, decision_function_shape=dag, C=819, score=0.467, total=   9.0s\n",
            "[CV] kernel=linear, gamma=1e-06, decision_function_shape=dag, C=819 ..\n",
            "[CV]  kernel=linear, gamma=1e-06, decision_function_shape=dag, C=819, score=0.453, total=   9.2s\n",
            "[CV] kernel=linear, gamma=5e-05, decision_function_shape=dag, C=285 ..\n",
            "[CV]  kernel=linear, gamma=5e-05, decision_function_shape=dag, C=285, score=0.456, total=   4.2s\n",
            "[CV] kernel=linear, gamma=5e-05, decision_function_shape=dag, C=285 ..\n",
            "[CV]  kernel=linear, gamma=5e-05, decision_function_shape=dag, C=285, score=0.496, total=   4.2s\n",
            "[CV] kernel=linear, gamma=5e-05, decision_function_shape=dag, C=285 ..\n",
            "[CV]  kernel=linear, gamma=5e-05, decision_function_shape=dag, C=285, score=0.473, total=   4.2s\n",
            "[CV] kernel=linear, gamma=5e-05, decision_function_shape=dag, C=285 ..\n",
            "[CV]  kernel=linear, gamma=5e-05, decision_function_shape=dag, C=285, score=0.466, total=   4.1s\n",
            "[CV] kernel=linear, gamma=5e-05, decision_function_shape=dag, C=285 ..\n",
            "[CV]  kernel=linear, gamma=5e-05, decision_function_shape=dag, C=285, score=0.452, total=   4.0s\n",
            "[CV] kernel=rbf, gamma=0.01, decision_function_shape=dag, C=932 ......\n",
            "[CV]  kernel=rbf, gamma=0.01, decision_function_shape=dag, C=932, score=0.455, total=   1.1s\n",
            "[CV] kernel=rbf, gamma=0.01, decision_function_shape=dag, C=932 ......\n",
            "[CV]  kernel=rbf, gamma=0.01, decision_function_shape=dag, C=932, score=0.494, total=   1.1s\n",
            "[CV] kernel=rbf, gamma=0.01, decision_function_shape=dag, C=932 ......\n",
            "[CV]  kernel=rbf, gamma=0.01, decision_function_shape=dag, C=932, score=0.473, total=   1.1s\n",
            "[CV] kernel=rbf, gamma=0.01, decision_function_shape=dag, C=932 ......\n",
            "[CV]  kernel=rbf, gamma=0.01, decision_function_shape=dag, C=932, score=0.462, total=   1.1s\n",
            "[CV] kernel=rbf, gamma=0.01, decision_function_shape=dag, C=932 ......\n",
            "[CV]  kernel=rbf, gamma=0.01, decision_function_shape=dag, C=932, score=0.448, total=   1.1s\n",
            "[CV] kernel=linear, gamma=0.0001, decision_function_shape=ovr, C=436 .\n",
            "[CV]  kernel=linear, gamma=0.0001, decision_function_shape=ovr, C=436, score=0.456, total=   5.8s\n",
            "[CV] kernel=linear, gamma=0.0001, decision_function_shape=ovr, C=436 .\n",
            "[CV]  kernel=linear, gamma=0.0001, decision_function_shape=ovr, C=436, score=0.496, total=   5.9s\n",
            "[CV] kernel=linear, gamma=0.0001, decision_function_shape=ovr, C=436 .\n",
            "[CV]  kernel=linear, gamma=0.0001, decision_function_shape=ovr, C=436, score=0.473, total=   5.9s\n",
            "[CV] kernel=linear, gamma=0.0001, decision_function_shape=ovr, C=436 .\n",
            "[CV]  kernel=linear, gamma=0.0001, decision_function_shape=ovr, C=436, score=0.466, total=   5.8s\n",
            "[CV] kernel=linear, gamma=0.0001, decision_function_shape=ovr, C=436 .\n",
            "[CV]  kernel=linear, gamma=0.0001, decision_function_shape=ovr, C=436, score=0.452, total=   5.6s\n",
            "[CV] kernel=rbf, gamma=0.0005, decision_function_shape=ovo, C=423 ....\n",
            "[CV]  kernel=rbf, gamma=0.0005, decision_function_shape=ovo, C=423, score=0.452, total=   0.8s\n",
            "[CV] kernel=rbf, gamma=0.0005, decision_function_shape=ovo, C=423 ....\n",
            "[CV]  kernel=rbf, gamma=0.0005, decision_function_shape=ovo, C=423, score=0.483, total=   0.8s\n",
            "[CV] kernel=rbf, gamma=0.0005, decision_function_shape=ovo, C=423 ....\n",
            "[CV]  kernel=rbf, gamma=0.0005, decision_function_shape=ovo, C=423, score=0.467, total=   0.8s\n",
            "[CV] kernel=rbf, gamma=0.0005, decision_function_shape=ovo, C=423 ....\n",
            "[CV]  kernel=rbf, gamma=0.0005, decision_function_shape=ovo, C=423, score=0.449, total=   0.8s\n",
            "[CV] kernel=rbf, gamma=0.0005, decision_function_shape=ovo, C=423 ....\n",
            "[CV]  kernel=rbf, gamma=0.0005, decision_function_shape=ovo, C=423, score=0.457, total=   0.8s\n",
            "[CV] kernel=linear, gamma=0.001, decision_function_shape=ovr, C=802 ..\n",
            "[CV]  kernel=linear, gamma=0.001, decision_function_shape=ovr, C=802, score=0.456, total=   9.9s\n",
            "[CV] kernel=linear, gamma=0.001, decision_function_shape=ovr, C=802 ..\n",
            "[CV]  kernel=linear, gamma=0.001, decision_function_shape=ovr, C=802, score=0.496, total=   9.9s\n",
            "[CV] kernel=linear, gamma=0.001, decision_function_shape=ovr, C=802 ..\n",
            "[CV]  kernel=linear, gamma=0.001, decision_function_shape=ovr, C=802, score=0.473, total=   9.9s\n",
            "[CV] kernel=linear, gamma=0.001, decision_function_shape=ovr, C=802 ..\n",
            "[CV]  kernel=linear, gamma=0.001, decision_function_shape=ovr, C=802, score=0.467, total=   9.6s\n",
            "[CV] kernel=linear, gamma=0.001, decision_function_shape=ovr, C=802 ..\n",
            "[CV]  kernel=linear, gamma=0.001, decision_function_shape=ovr, C=802, score=0.453, total=   9.0s\n",
            "[CV] kernel=rbf, gamma=0.001, decision_function_shape=ovr, C=775 .....\n",
            "[CV]  kernel=rbf, gamma=0.001, decision_function_shape=ovr, C=775, score=0.455, total=   0.9s\n",
            "[CV] kernel=rbf, gamma=0.001, decision_function_shape=ovr, C=775 .....\n",
            "[CV]  kernel=rbf, gamma=0.001, decision_function_shape=ovr, C=775, score=0.498, total=   0.9s\n",
            "[CV] kernel=rbf, gamma=0.001, decision_function_shape=ovr, C=775 .....\n",
            "[CV]  kernel=rbf, gamma=0.001, decision_function_shape=ovr, C=775, score=0.475, total=   0.8s\n",
            "[CV] kernel=rbf, gamma=0.001, decision_function_shape=ovr, C=775 .....\n",
            "[CV]  kernel=rbf, gamma=0.001, decision_function_shape=ovr, C=775, score=0.453, total=   0.8s\n",
            "[CV] kernel=rbf, gamma=0.001, decision_function_shape=ovr, C=775 .....\n",
            "[CV]  kernel=rbf, gamma=0.001, decision_function_shape=ovr, C=775, score=0.461, total=   0.8s\n",
            "[CV] kernel=rbf, gamma=5e-05, decision_function_shape=ovo, C=638 .....\n",
            "[CV]  kernel=rbf, gamma=5e-05, decision_function_shape=ovo, C=638, score=0.431, total=   0.9s\n",
            "[CV] kernel=rbf, gamma=5e-05, decision_function_shape=ovo, C=638 .....\n",
            "[CV]  kernel=rbf, gamma=5e-05, decision_function_shape=ovo, C=638, score=0.479, total=   0.9s\n",
            "[CV] kernel=rbf, gamma=5e-05, decision_function_shape=ovo, C=638 .....\n",
            "[CV]  kernel=rbf, gamma=5e-05, decision_function_shape=ovo, C=638, score=0.438, total=   0.9s\n",
            "[CV] kernel=rbf, gamma=5e-05, decision_function_shape=ovo, C=638 .....\n",
            "[CV]  kernel=rbf, gamma=5e-05, decision_function_shape=ovo, C=638, score=0.436, total=   0.8s\n",
            "[CV] kernel=rbf, gamma=5e-05, decision_function_shape=ovo, C=638 .....\n",
            "[CV]  kernel=rbf, gamma=5e-05, decision_function_shape=ovo, C=638, score=0.422, total=   0.9s\n",
            "[CV] kernel=linear, gamma=0.005, decision_function_shape=ovr, C=680 ..\n",
            "[CV]  kernel=linear, gamma=0.005, decision_function_shape=ovr, C=680, score=0.457, total=   8.5s\n",
            "[CV] kernel=linear, gamma=0.005, decision_function_shape=ovr, C=680 ..\n",
            "[CV]  kernel=linear, gamma=0.005, decision_function_shape=ovr, C=680, score=0.496, total=   8.5s\n",
            "[CV] kernel=linear, gamma=0.005, decision_function_shape=ovr, C=680 ..\n",
            "[CV]  kernel=linear, gamma=0.005, decision_function_shape=ovr, C=680, score=0.473, total=   8.4s\n",
            "[CV] kernel=linear, gamma=0.005, decision_function_shape=ovr, C=680 ..\n",
            "[CV]  kernel=linear, gamma=0.005, decision_function_shape=ovr, C=680, score=0.468, total=   7.4s\n",
            "[CV] kernel=linear, gamma=0.005, decision_function_shape=ovr, C=680 ..\n",
            "[CV]  kernel=linear, gamma=0.005, decision_function_shape=ovr, C=680, score=0.452, total=   7.9s\n",
            "[CV] kernel=linear, gamma=5e-05, decision_function_shape=ovo, C=310 ..\n",
            "[CV]  kernel=linear, gamma=5e-05, decision_function_shape=ovo, C=310, score=0.456, total=   4.5s\n",
            "[CV] kernel=linear, gamma=5e-05, decision_function_shape=ovo, C=310 ..\n",
            "[CV]  kernel=linear, gamma=5e-05, decision_function_shape=ovo, C=310, score=0.496, total=   4.6s\n",
            "[CV] kernel=linear, gamma=5e-05, decision_function_shape=ovo, C=310 ..\n",
            "[CV]  kernel=linear, gamma=5e-05, decision_function_shape=ovo, C=310, score=0.473, total=   4.5s\n",
            "[CV] kernel=linear, gamma=5e-05, decision_function_shape=ovo, C=310 ..\n",
            "[CV]  kernel=linear, gamma=5e-05, decision_function_shape=ovo, C=310, score=0.466, total=   4.2s\n",
            "[CV] kernel=linear, gamma=5e-05, decision_function_shape=ovo, C=310 ..\n",
            "[CV]  kernel=linear, gamma=5e-05, decision_function_shape=ovo, C=310, score=0.452, total=   4.3s\n",
            "[CV] kernel=linear, gamma=0.01, decision_function_shape=ovr, C=453 ...\n",
            "[CV]  kernel=linear, gamma=0.01, decision_function_shape=ovr, C=453, score=0.456, total=   6.3s\n",
            "[CV] kernel=linear, gamma=0.01, decision_function_shape=ovr, C=453 ...\n",
            "[CV]  kernel=linear, gamma=0.01, decision_function_shape=ovr, C=453, score=0.496, total=   6.2s\n",
            "[CV] kernel=linear, gamma=0.01, decision_function_shape=ovr, C=453 ...\n",
            "[CV]  kernel=linear, gamma=0.01, decision_function_shape=ovr, C=453, score=0.473, total=   6.2s\n",
            "[CV] kernel=linear, gamma=0.01, decision_function_shape=ovr, C=453 ...\n",
            "[CV]  kernel=linear, gamma=0.01, decision_function_shape=ovr, C=453, score=0.468, total=   5.6s\n",
            "[CV] kernel=linear, gamma=0.01, decision_function_shape=ovr, C=453 ...\n",
            "[CV]  kernel=linear, gamma=0.01, decision_function_shape=ovr, C=453, score=0.452, total=   5.5s\n",
            "[CV] kernel=rbf, gamma=1e-05, decision_function_shape=dag, C=264 .....\n",
            "[CV]  kernel=rbf, gamma=1e-05, decision_function_shape=dag, C=264, score=0.385, total=   1.0s\n",
            "[CV] kernel=rbf, gamma=1e-05, decision_function_shape=dag, C=264 .....\n",
            "[CV]  kernel=rbf, gamma=1e-05, decision_function_shape=dag, C=264, score=0.421, total=   1.0s\n",
            "[CV] kernel=rbf, gamma=1e-05, decision_function_shape=dag, C=264 .....\n",
            "[CV]  kernel=rbf, gamma=1e-05, decision_function_shape=dag, C=264, score=0.386, total=   1.0s\n",
            "[CV] kernel=rbf, gamma=1e-05, decision_function_shape=dag, C=264 .....\n",
            "[CV]  kernel=rbf, gamma=1e-05, decision_function_shape=dag, C=264, score=0.388, total=   1.0s\n",
            "[CV] kernel=rbf, gamma=1e-05, decision_function_shape=dag, C=264 .....\n",
            "[CV]  kernel=rbf, gamma=1e-05, decision_function_shape=dag, C=264, score=0.398, total=   1.0s\n",
            "[CV] kernel=rbf, gamma=0.1, decision_function_shape=ovr, C=825 .......\n",
            "[CV]  kernel=rbf, gamma=0.1, decision_function_shape=ovr, C=825, score=0.477, total=   2.0s\n",
            "[CV] kernel=rbf, gamma=0.1, decision_function_shape=ovr, C=825 .......\n",
            "[CV]  kernel=rbf, gamma=0.1, decision_function_shape=ovr, C=825, score=0.506, total=   2.0s\n",
            "[CV] kernel=rbf, gamma=0.1, decision_function_shape=ovr, C=825 .......\n",
            "[CV]  kernel=rbf, gamma=0.1, decision_function_shape=ovr, C=825, score=0.467, total=   1.9s\n",
            "[CV] kernel=rbf, gamma=0.1, decision_function_shape=ovr, C=825 .......\n",
            "[CV]  kernel=rbf, gamma=0.1, decision_function_shape=ovr, C=825, score=0.459, total=   1.9s\n",
            "[CV] kernel=rbf, gamma=0.1, decision_function_shape=ovr, C=825 .......\n",
            "[CV]  kernel=rbf, gamma=0.1, decision_function_shape=ovr, C=825, score=0.467, total=   1.9s\n",
            "[CV] kernel=linear, gamma=1e-05, decision_function_shape=dag, C=257 ..\n",
            "[CV]  kernel=linear, gamma=1e-05, decision_function_shape=dag, C=257, score=0.456, total=   3.9s\n",
            "[CV] kernel=linear, gamma=1e-05, decision_function_shape=dag, C=257 ..\n",
            "[CV]  kernel=linear, gamma=1e-05, decision_function_shape=dag, C=257, score=0.496, total=   3.9s\n",
            "[CV] kernel=linear, gamma=1e-05, decision_function_shape=dag, C=257 ..\n",
            "[CV]  kernel=linear, gamma=1e-05, decision_function_shape=dag, C=257, score=0.473, total=   3.9s\n",
            "[CV] kernel=linear, gamma=1e-05, decision_function_shape=dag, C=257 ..\n",
            "[CV]  kernel=linear, gamma=1e-05, decision_function_shape=dag, C=257, score=0.466, total=   3.9s\n",
            "[CV] kernel=linear, gamma=1e-05, decision_function_shape=dag, C=257 ..\n",
            "[CV]  kernel=linear, gamma=1e-05, decision_function_shape=dag, C=257, score=0.452, total=   3.8s\n",
            "[CV] kernel=linear, gamma=0.1, decision_function_shape=dag, C=624 ....\n",
            "[CV]  kernel=linear, gamma=0.1, decision_function_shape=dag, C=624, score=0.457, total=   7.7s\n",
            "[CV] kernel=linear, gamma=0.1, decision_function_shape=dag, C=624 ....\n",
            "[CV]  kernel=linear, gamma=0.1, decision_function_shape=dag, C=624, score=0.496, total=   8.3s\n",
            "[CV] kernel=linear, gamma=0.1, decision_function_shape=dag, C=624 ....\n",
            "[CV]  kernel=linear, gamma=0.1, decision_function_shape=dag, C=624, score=0.473, total=   8.0s\n",
            "[CV] kernel=linear, gamma=0.1, decision_function_shape=dag, C=624 ....\n",
            "[CV]  kernel=linear, gamma=0.1, decision_function_shape=dag, C=624, score=0.468, total=   7.3s\n",
            "[CV] kernel=linear, gamma=0.1, decision_function_shape=dag, C=624 ....\n",
            "[CV]  kernel=linear, gamma=0.1, decision_function_shape=dag, C=624, score=0.452, total=   7.6s\n",
            "[CV] kernel=linear, gamma=1e-05, decision_function_shape=ovo, C=334 ..\n",
            "[CV]  kernel=linear, gamma=1e-05, decision_function_shape=ovo, C=334, score=0.456, total=   4.8s\n",
            "[CV] kernel=linear, gamma=1e-05, decision_function_shape=ovo, C=334 ..\n",
            "[CV]  kernel=linear, gamma=1e-05, decision_function_shape=ovo, C=334, score=0.496, total=   4.6s\n",
            "[CV] kernel=linear, gamma=1e-05, decision_function_shape=ovo, C=334 ..\n",
            "[CV]  kernel=linear, gamma=1e-05, decision_function_shape=ovo, C=334, score=0.473, total=   4.5s\n",
            "[CV] kernel=linear, gamma=1e-05, decision_function_shape=ovo, C=334 ..\n",
            "[CV]  kernel=linear, gamma=1e-05, decision_function_shape=ovo, C=334, score=0.466, total=   4.6s\n",
            "[CV] kernel=linear, gamma=1e-05, decision_function_shape=ovo, C=334 ..\n",
            "[CV]  kernel=linear, gamma=1e-05, decision_function_shape=ovo, C=334, score=0.452, total=   4.6s\n",
            "[CV] kernel=linear, gamma=0.001, decision_function_shape=ovr, C=374 ..\n",
            "[CV]  kernel=linear, gamma=0.001, decision_function_shape=ovr, C=374, score=0.456, total=   5.2s\n",
            "[CV] kernel=linear, gamma=0.001, decision_function_shape=ovr, C=374 ..\n",
            "[CV]  kernel=linear, gamma=0.001, decision_function_shape=ovr, C=374, score=0.496, total=   5.3s\n",
            "[CV] kernel=linear, gamma=0.001, decision_function_shape=ovr, C=374 ..\n",
            "[CV]  kernel=linear, gamma=0.001, decision_function_shape=ovr, C=374, score=0.473, total=   5.4s\n",
            "[CV] kernel=linear, gamma=0.001, decision_function_shape=ovr, C=374 ..\n",
            "[CV]  kernel=linear, gamma=0.001, decision_function_shape=ovr, C=374, score=0.467, total=   4.9s\n",
            "[CV] kernel=linear, gamma=0.001, decision_function_shape=ovr, C=374 ..\n",
            "[CV]  kernel=linear, gamma=0.001, decision_function_shape=ovr, C=374, score=0.452, total=   5.1s\n",
            "[CV] kernel=rbf, gamma=0.1, decision_function_shape=ovo, C=49 ........\n",
            "[CV]  kernel=rbf, gamma=0.1, decision_function_shape=ovo, C=49, score=0.470, total=   0.9s\n",
            "[CV] kernel=rbf, gamma=0.1, decision_function_shape=ovo, C=49 ........\n",
            "[CV]  kernel=rbf, gamma=0.1, decision_function_shape=ovo, C=49, score=0.496, total=   0.9s\n",
            "[CV] kernel=rbf, gamma=0.1, decision_function_shape=ovo, C=49 ........\n",
            "[CV]  kernel=rbf, gamma=0.1, decision_function_shape=ovo, C=49, score=0.474, total=   0.9s\n",
            "[CV] kernel=rbf, gamma=0.1, decision_function_shape=ovo, C=49 ........\n",
            "[CV]  kernel=rbf, gamma=0.1, decision_function_shape=ovo, C=49, score=0.461, total=   0.9s\n",
            "[CV] kernel=rbf, gamma=0.1, decision_function_shape=ovo, C=49 ........\n",
            "[CV]  kernel=rbf, gamma=0.1, decision_function_shape=ovo, C=49, score=0.460, total=   0.9s\n",
            "[CV] kernel=rbf, gamma=0.0005, decision_function_shape=ovr, C=913 ....\n",
            "[CV]  kernel=rbf, gamma=0.0005, decision_function_shape=ovr, C=913, score=0.454, total=   0.8s\n",
            "[CV] kernel=rbf, gamma=0.0005, decision_function_shape=ovr, C=913 ....\n",
            "[CV]  kernel=rbf, gamma=0.0005, decision_function_shape=ovr, C=913, score=0.486, total=   0.8s\n",
            "[CV] kernel=rbf, gamma=0.0005, decision_function_shape=ovr, C=913 ....\n",
            "[CV]  kernel=rbf, gamma=0.0005, decision_function_shape=ovr, C=913, score=0.472, total=   0.8s\n",
            "[CV] kernel=rbf, gamma=0.0005, decision_function_shape=ovr, C=913 ....\n",
            "[CV]  kernel=rbf, gamma=0.0005, decision_function_shape=ovr, C=913, score=0.454, total=   0.8s\n",
            "[CV] kernel=rbf, gamma=0.0005, decision_function_shape=ovr, C=913 ....\n",
            "[CV]  kernel=rbf, gamma=0.0005, decision_function_shape=ovr, C=913, score=0.455, total=   0.8s\n",
            "[CV] kernel=rbf, gamma=5e-05, decision_function_shape=dag, C=970 .....\n",
            "[CV]  kernel=rbf, gamma=5e-05, decision_function_shape=dag, C=970, score=0.435, total=   0.8s\n",
            "[CV] kernel=rbf, gamma=5e-05, decision_function_shape=dag, C=970 .....\n",
            "[CV]  kernel=rbf, gamma=5e-05, decision_function_shape=dag, C=970, score=0.483, total=   0.9s\n",
            "[CV] kernel=rbf, gamma=5e-05, decision_function_shape=dag, C=970 .....\n",
            "[CV]  kernel=rbf, gamma=5e-05, decision_function_shape=dag, C=970, score=0.444, total=   0.8s\n",
            "[CV] kernel=rbf, gamma=5e-05, decision_function_shape=dag, C=970 .....\n",
            "[CV]  kernel=rbf, gamma=5e-05, decision_function_shape=dag, C=970, score=0.439, total=   0.8s\n",
            "[CV] kernel=rbf, gamma=5e-05, decision_function_shape=dag, C=970 .....\n",
            "[CV]  kernel=rbf, gamma=5e-05, decision_function_shape=dag, C=970, score=0.430, total=   0.9s\n",
            "[CV] kernel=rbf, gamma=0.0001, decision_function_shape=ovo, C=440 ....\n",
            "[CV]  kernel=rbf, gamma=0.0001, decision_function_shape=ovo, C=440, score=0.435, total=   0.8s\n",
            "[CV] kernel=rbf, gamma=0.0001, decision_function_shape=ovo, C=440 ....\n",
            "[CV]  kernel=rbf, gamma=0.0001, decision_function_shape=ovo, C=440, score=0.483, total=   0.8s\n",
            "[CV] kernel=rbf, gamma=0.0001, decision_function_shape=ovo, C=440 ....\n",
            "[CV]  kernel=rbf, gamma=0.0001, decision_function_shape=ovo, C=440, score=0.441, total=   0.8s\n",
            "[CV] kernel=rbf, gamma=0.0001, decision_function_shape=ovo, C=440 ....\n",
            "[CV]  kernel=rbf, gamma=0.0001, decision_function_shape=ovo, C=440, score=0.437, total=   0.8s\n",
            "[CV] kernel=rbf, gamma=0.0001, decision_function_shape=ovo, C=440 ....\n",
            "[CV]  kernel=rbf, gamma=0.0001, decision_function_shape=ovo, C=440, score=0.430, total=   0.9s\n",
            "[CV] kernel=linear, gamma=1e-05, decision_function_shape=dag, C=781 ..\n",
            "[CV]  kernel=linear, gamma=1e-05, decision_function_shape=dag, C=781, score=0.457, total=   9.3s\n",
            "[CV] kernel=linear, gamma=1e-05, decision_function_shape=dag, C=781 ..\n",
            "[CV]  kernel=linear, gamma=1e-05, decision_function_shape=dag, C=781, score=0.496, total=   9.9s\n",
            "[CV] kernel=linear, gamma=1e-05, decision_function_shape=dag, C=781 ..\n",
            "[CV]  kernel=linear, gamma=1e-05, decision_function_shape=dag, C=781, score=0.473, total=   9.4s\n",
            "[CV] kernel=linear, gamma=1e-05, decision_function_shape=dag, C=781 ..\n",
            "[CV]  kernel=linear, gamma=1e-05, decision_function_shape=dag, C=781, score=0.467, total=   9.1s\n",
            "[CV] kernel=linear, gamma=1e-05, decision_function_shape=dag, C=781 ..\n",
            "[CV]  kernel=linear, gamma=1e-05, decision_function_shape=dag, C=781, score=0.453, total=   8.7s\n",
            "[CV] kernel=rbf, gamma=0.0005, decision_function_shape=ovr, C=771 ....\n",
            "[CV]  kernel=rbf, gamma=0.0005, decision_function_shape=ovr, C=771, score=0.451, total=   0.8s\n",
            "[CV] kernel=rbf, gamma=0.0005, decision_function_shape=ovr, C=771 ....\n",
            "[CV]  kernel=rbf, gamma=0.0005, decision_function_shape=ovr, C=771, score=0.487, total=   0.8s\n",
            "[CV] kernel=rbf, gamma=0.0005, decision_function_shape=ovr, C=771 ....\n",
            "[CV]  kernel=rbf, gamma=0.0005, decision_function_shape=ovr, C=771, score=0.473, total=   0.8s\n",
            "[CV] kernel=rbf, gamma=0.0005, decision_function_shape=ovr, C=771 ....\n",
            "[CV]  kernel=rbf, gamma=0.0005, decision_function_shape=ovr, C=771, score=0.455, total=   0.8s\n",
            "[CV] kernel=rbf, gamma=0.0005, decision_function_shape=ovr, C=771 ....\n",
            "[CV]  kernel=rbf, gamma=0.0005, decision_function_shape=ovr, C=771, score=0.461, total=   0.8s\n",
            "[CV] kernel=rbf, gamma=0.0005, decision_function_shape=dag, C=967 ....\n",
            "[CV]  kernel=rbf, gamma=0.0005, decision_function_shape=dag, C=967, score=0.453, total=   0.8s\n",
            "[CV] kernel=rbf, gamma=0.0005, decision_function_shape=dag, C=967 ....\n",
            "[CV]  kernel=rbf, gamma=0.0005, decision_function_shape=dag, C=967, score=0.484, total=   0.8s\n",
            "[CV] kernel=rbf, gamma=0.0005, decision_function_shape=dag, C=967 ....\n",
            "[CV]  kernel=rbf, gamma=0.0005, decision_function_shape=dag, C=967, score=0.473, total=   0.8s\n",
            "[CV] kernel=rbf, gamma=0.0005, decision_function_shape=dag, C=967 ....\n",
            "[CV]  kernel=rbf, gamma=0.0005, decision_function_shape=dag, C=967, score=0.453, total=   0.8s\n",
            "[CV] kernel=rbf, gamma=0.0005, decision_function_shape=dag, C=967 ....\n",
            "[CV]  kernel=rbf, gamma=0.0005, decision_function_shape=dag, C=967, score=0.456, total=   0.9s\n"
          ],
          "name": "stdout"
        },
        {
          "output_type": "stream",
          "text": [
            "[Parallel(n_jobs=1)]: Done 500 out of 500 | elapsed: 27.5min finished\n"
          ],
          "name": "stderr"
        },
        {
          "output_type": "execute_result",
          "data": {
            "text/plain": [
              "SVC(C=435, break_ties=False, cache_size=200, class_weight=None, coef0=0.0,\n",
              "    decision_function_shape='dag', degree=3, gamma=0.1, kernel='rbf',\n",
              "    max_iter=-1, probability=False, random_state=None, shrinking=True,\n",
              "    tol=0.001, verbose=False)"
            ]
          },
          "metadata": {
            "tags": []
          },
          "execution_count": 20
        }
      ]
    },
    {
      "cell_type": "code",
      "metadata": {
        "colab": {
          "base_uri": "https://localhost:8080/"
        },
        "id": "8OTa4A_neVIq",
        "outputId": "0e079ffb-1647-4112-d848-adeb8fbf103d"
      },
      "source": [
        "from sklearn.preprocessing import StandardScaler\n",
        "X_test = StandardScaler().fit(X_test).transform(X_test)\n",
        "\n",
        "y_pred_svm = clf.predict(X_test)\n",
        "print(\"Number of mislabeled points out of a total %d points : %d\" % (X_test.shape[0], (y_test != y_pred_svm).sum()))\n",
        "print(\"Accuracy = %f\" % (( (y_test == y_pred_svm).sum())/X_test.shape[0]))\n",
        "confusion_matrix(y_test, y_pred_svm)"
      ],
      "execution_count": 23,
      "outputs": [
        {
          "output_type": "stream",
          "text": [
            "Number of mislabeled points out of a total 1552 points : 1023\n",
            "Accuracy = 0.340851\n"
          ],
          "name": "stdout"
        },
        {
          "output_type": "execute_result",
          "data": {
            "text/plain": [
              "array([[ 77,  97,  30,   0,   8,   0],\n",
              "       [  6,  87, 164,   8,  33,   0],\n",
              "       [  0,  17, 150,  19,  78,   0],\n",
              "       [  0,   0,  87,  32, 155,   0],\n",
              "       [  0,   0,  29,  10, 183,   0],\n",
              "       [  0,   0,   1,   0, 281,   0]])"
            ]
          },
          "metadata": {
            "tags": []
          },
          "execution_count": 23
        }
      ]
    },
    {
      "cell_type": "markdown",
      "metadata": {
        "id": "dVgzVhwU-uZP"
      },
      "source": [
        "Naive Bayes"
      ]
    },
    {
      "cell_type": "code",
      "metadata": {
        "colab": {
          "base_uri": "https://localhost:8080/"
        },
        "id": "Ud8md6vG-vxM",
        "outputId": "5a73b124-ba46-4404-976b-1a8e1f11dd34"
      },
      "source": [
        "gnb = GaussianNB()\n",
        "y_pred_nb = gnb.fit(X_train, y_train).predict(X_test)\n",
        "print(\"Number of mislabeled points out of a total %d points : %d\" % (X_test.shape[0], (y_test != y_pred_nb).sum()))\n",
        "print(\"Accuracy = %f\" % (( (y_test == y_pred_nb).sum())/X_test.shape[0]))\n",
        "confusion_matrix(y_test, y_pred_nb)"
      ],
      "execution_count": 42,
      "outputs": [
        {
          "output_type": "stream",
          "text": [
            "Number of mislabeled points out of a total 1552 points : 863\n",
            "Accuracy = 0.443943\n"
          ],
          "name": "stdout"
        },
        {
          "output_type": "execute_result",
          "data": {
            "text/plain": [
              "array([[139,  40,  15,   7,   4,   7],\n",
              "       [ 44, 128,  34,  50,  28,  14],\n",
              "       [  1,  86,  44,  39,  53,  41],\n",
              "       [  0,  25,  31,  50,  95,  73],\n",
              "       [  0,   0,  15,  21,  71, 115],\n",
              "       [  0,   1,   2,   2,  20, 257]])"
            ]
          },
          "metadata": {
            "tags": []
          },
          "execution_count": 42
        }
      ]
    },
    {
      "cell_type": "code",
      "metadata": {
        "colab": {
          "base_uri": "https://localhost:8080/"
        },
        "id": "baFaz52NKvDb",
        "outputId": "a9a49ba4-7018-4d4b-b0ac-fa7e80074a4f"
      },
      "source": [
        "clf = RandomForestClassifier(max_depth=8, random_state=0)\n",
        "y_pred = clf.fit(X_train, y_train).predict(X_test)\n",
        "print(\"Number of mislabeled points out of a total %d points : %d\" % (X_test.shape[0], (y_test != y_pred).sum()))\n",
        "print(\"Accuracy = %f\" % (( (y_test == y_pred).sum())/X_test.shape[0]))\n",
        "confusion_matrix(y_test, y_pred)"
      ],
      "execution_count": 43,
      "outputs": [
        {
          "output_type": "stream",
          "text": [
            "Number of mislabeled points out of a total 1552 points : 778\n",
            "Accuracy = 0.498711\n"
          ],
          "name": "stdout"
        },
        {
          "output_type": "execute_result",
          "data": {
            "text/plain": [
              "array([[142,  54,   7,   3,   4,   2],\n",
              "       [ 53, 140,  66,  23,   9,   7],\n",
              "       [  9,  57, 114,  30,  38,  16],\n",
              "       [  0,  10,  74,  61,  98,  31],\n",
              "       [  0,   1,  26,  24, 107,  64],\n",
              "       [  0,   1,   1,   0,  70, 210]])"
            ]
          },
          "metadata": {
            "tags": []
          },
          "execution_count": 43
        }
      ]
    },
    {
      "cell_type": "code",
      "metadata": {
        "colab": {
          "base_uri": "https://localhost:8080/"
        },
        "id": "FFgfrm8S-Ff5",
        "outputId": "a3005210-04f8-4b5a-ca76-3e196414e8fb"
      },
      "source": [
        "from sklearn.ensemble import AdaBoostClassifier\n",
        "clf = AdaBoostClassifier(n_estimators=100, random_state=0)\n",
        "y_pred = clf.fit(X_train, y_train).predict(X_test)\n",
        "print(\"Number of mislabeled points out of a total %d points : %d\" % (X_test.shape[0], (y_test != y_pred).sum()))\n",
        "print(\"Accuracy = %f\" % (( (y_test == y_pred).sum())/X_test.shape[0]))\n",
        "confusion_matrix(y_test, y_pred)"
      ],
      "execution_count": 24,
      "outputs": [
        {
          "output_type": "stream",
          "text": [
            "Number of mislabeled points out of a total 1552 points : 1049\n",
            "Accuracy = 0.324098\n"
          ],
          "name": "stdout"
        },
        {
          "output_type": "execute_result",
          "data": {
            "text/plain": [
              "array([[ 99,  89,   6,  11,   7,   0],\n",
              "       [ 71, 112,  43,  44,  28,   0],\n",
              "       [ 13,  55,  65,  76,  55,   0],\n",
              "       [  3,  20,  58,  72, 119,   2],\n",
              "       [  0,   3,  33,  33, 153,   0],\n",
              "       [  0,   0,   3,   5, 272,   2]])"
            ]
          },
          "metadata": {
            "tags": []
          },
          "execution_count": 24
        }
      ]
    },
    {
      "cell_type": "code",
      "metadata": {
        "id": "hvkKtol3oxnB"
      },
      "source": [
        ""
      ],
      "execution_count": null,
      "outputs": []
    }
  ]
}