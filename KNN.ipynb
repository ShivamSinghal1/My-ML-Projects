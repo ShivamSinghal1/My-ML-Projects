{
 "cells": [
  {
   "cell_type": "markdown",
   "metadata": {},
   "source": [
    "# Experiment 9\n",
    "\n",
    "### SHIVAM SINGHAL \n",
    "\n",
    "### 2K18/CO/340\n",
    "\n",
    "**AIM** - Write a program to implement k-Nearest Neighbor algorithm to classify any dataset of your\n",
    "choice. Print both correct and wrong predictions."
   ]
  },
  {
   "cell_type": "code",
   "execution_count": 1,
   "metadata": {},
   "outputs": [],
   "source": [
    "import pandas as pd \n",
    "import numpy as np"
   ]
  },
  {
   "cell_type": "code",
   "execution_count": 2,
   "metadata": {},
   "outputs": [],
   "source": [
    "url = \"https://archive.ics.uci.edu/ml/machine-learning-databases/iris/iris.data\"\n",
    "header = ['sepal length in cm' , 'sepal width in cm' , 'petal length in cm' , 'petal width in cm' , 'class']"
   ]
  },
  {
   "cell_type": "code",
   "execution_count": 3,
   "metadata": {},
   "outputs": [],
   "source": [
    "df = pd.read_csv(url , names = header)\n",
    "df = df.replace(df['class'].unique() , [0,1,2])"
   ]
  },
  {
   "cell_type": "code",
   "execution_count": 4,
   "metadata": {},
   "outputs": [
    {
     "data": {
      "text/html": [
       "<div>\n",
       "<style scoped>\n",
       "    .dataframe tbody tr th:only-of-type {\n",
       "        vertical-align: middle;\n",
       "    }\n",
       "\n",
       "    .dataframe tbody tr th {\n",
       "        vertical-align: top;\n",
       "    }\n",
       "\n",
       "    .dataframe thead th {\n",
       "        text-align: right;\n",
       "    }\n",
       "</style>\n",
       "<table border=\"1\" class=\"dataframe\">\n",
       "  <thead>\n",
       "    <tr style=\"text-align: right;\">\n",
       "      <th></th>\n",
       "      <th>sepal length in cm</th>\n",
       "      <th>sepal width in cm</th>\n",
       "      <th>petal length in cm</th>\n",
       "      <th>petal width in cm</th>\n",
       "      <th>class</th>\n",
       "    </tr>\n",
       "  </thead>\n",
       "  <tbody>\n",
       "    <tr>\n",
       "      <th>0</th>\n",
       "      <td>5.1</td>\n",
       "      <td>3.5</td>\n",
       "      <td>1.4</td>\n",
       "      <td>0.2</td>\n",
       "      <td>0</td>\n",
       "    </tr>\n",
       "    <tr>\n",
       "      <th>1</th>\n",
       "      <td>4.9</td>\n",
       "      <td>3.0</td>\n",
       "      <td>1.4</td>\n",
       "      <td>0.2</td>\n",
       "      <td>0</td>\n",
       "    </tr>\n",
       "    <tr>\n",
       "      <th>2</th>\n",
       "      <td>4.7</td>\n",
       "      <td>3.2</td>\n",
       "      <td>1.3</td>\n",
       "      <td>0.2</td>\n",
       "      <td>0</td>\n",
       "    </tr>\n",
       "    <tr>\n",
       "      <th>3</th>\n",
       "      <td>4.6</td>\n",
       "      <td>3.1</td>\n",
       "      <td>1.5</td>\n",
       "      <td>0.2</td>\n",
       "      <td>0</td>\n",
       "    </tr>\n",
       "    <tr>\n",
       "      <th>4</th>\n",
       "      <td>5.0</td>\n",
       "      <td>3.6</td>\n",
       "      <td>1.4</td>\n",
       "      <td>0.2</td>\n",
       "      <td>0</td>\n",
       "    </tr>\n",
       "  </tbody>\n",
       "</table>\n",
       "</div>"
      ],
      "text/plain": [
       "   sepal length in cm  sepal width in cm  petal length in cm  \\\n",
       "0                 5.1                3.5                 1.4   \n",
       "1                 4.9                3.0                 1.4   \n",
       "2                 4.7                3.2                 1.3   \n",
       "3                 4.6                3.1                 1.5   \n",
       "4                 5.0                3.6                 1.4   \n",
       "\n",
       "   petal width in cm  class  \n",
       "0                0.2      0  \n",
       "1                0.2      0  \n",
       "2                0.2      0  \n",
       "3                0.2      0  \n",
       "4                0.2      0  "
      ]
     },
     "execution_count": 4,
     "metadata": {},
     "output_type": "execute_result"
    }
   ],
   "source": [
    "df.head()"
   ]
  },
  {
   "cell_type": "markdown",
   "metadata": {},
   "source": [
    "## KNN Algorithm\n",
    "- Calculate the distance between the query example and the current example from the data.\n",
    "- Add the distance and the index of the example to an ordered collection\n",
    "- Sort the ordered collection of distances and indices from smallest to largest (in ascending order) by the distances\n",
    "- Pick the first K entries from the sorted collection\n",
    "- Get the labels of the selected K entries\n",
    "    - If regression, return the mean of the K labels\n",
    "    - If classification, return the mode of the K labels"
   ]
  },
  {
   "cell_type": "code",
   "execution_count": 5,
   "metadata": {},
   "outputs": [],
   "source": [
    "def distance(v1, v2):\n",
    "    # Eucledian \n",
    "    return np.sqrt(((v1-v2)**2).sum())"
   ]
  },
  {
   "cell_type": "code",
   "execution_count": 6,
   "metadata": {},
   "outputs": [],
   "source": [
    "def knn(X_train, Y_train , test , k):\n",
    "    dist = []\n",
    "\n",
    "    for i in range(X_train.shape[0]):\n",
    "        # Compute the distance from test point\n",
    "        d = distance(test, X_train[i])\n",
    "        dist.append([d, Y_train[i]])\n",
    "        \n",
    "    # Sort based on distance \n",
    "    dk = sorted(dist, key=lambda x : x[0])\n",
    "    # Retrieve only k labels\n",
    "    labels = np.array(dk)[:k,-1]\n",
    "    (values,counts) = np.unique(labels,return_counts=True)\n",
    "    ind = np.argmax(counts)\n",
    "    return values[ind]"
   ]
  },
  {
   "cell_type": "code",
   "execution_count": 7,
   "metadata": {},
   "outputs": [],
   "source": [
    "X = np.array(df)[: , 0:4]\n",
    "Y = np.array(df)[: , 4]"
   ]
  },
  {
   "cell_type": "code",
   "execution_count": 8,
   "metadata": {},
   "outputs": [
    {
     "name": "stdout",
     "output_type": "stream",
     "text": [
      "(150, 4)\n",
      "(150,)\n"
     ]
    }
   ],
   "source": [
    "print(X.shape)\n",
    "print(Y.shape)"
   ]
  },
  {
   "cell_type": "code",
   "execution_count": 9,
   "metadata": {},
   "outputs": [
    {
     "data": {
      "text/plain": [
       "((105, 4), (45, 4), (105,), (45,))"
      ]
     },
     "execution_count": 9,
     "metadata": {},
     "output_type": "execute_result"
    }
   ],
   "source": [
    "from sklearn.model_selection import train_test_split\n",
    "X_train, X_test, y_train, y_test = train_test_split(X, Y,\n",
    "                                                    shuffle=True, stratify=Y,\n",
    "                                                    test_size=0.3, random_state=6)\n",
    "X_train.shape, X_test.shape, y_train.shape, y_test.shape"
   ]
  },
  {
   "cell_type": "code",
   "execution_count": 10,
   "metadata": {},
   "outputs": [],
   "source": [
    "k = 3\n",
    "y_pred = []\n",
    "for i in range(X_test.shape[0]):\n",
    "    answer = knn(X_train , y_train , X_test[i] ,k)\n",
    "    y_pred.append(answer)"
   ]
  },
  {
   "cell_type": "code",
   "execution_count": 11,
   "metadata": {},
   "outputs": [],
   "source": [
    "y_pred = np.array(y_pred)"
   ]
  },
  {
   "cell_type": "code",
   "execution_count": 12,
   "metadata": {},
   "outputs": [
    {
     "data": {
      "text/plain": [
       "array([[15,  0,  0],\n",
       "       [ 0, 13,  2],\n",
       "       [ 0,  1, 14]], dtype=int64)"
      ]
     },
     "execution_count": 12,
     "metadata": {},
     "output_type": "execute_result"
    }
   ],
   "source": [
    "from sklearn.metrics import confusion_matrix\n",
    "\n",
    "confusion_matrix(y_test , y_pred)"
   ]
  },
  {
   "cell_type": "code",
   "execution_count": 13,
   "metadata": {},
   "outputs": [
    {
     "name": "stdout",
     "output_type": "stream",
     "text": [
      "              precision    recall  f1-score   support\n",
      "\n",
      "         0.0       1.00      1.00      1.00        15\n",
      "         1.0       0.93      0.87      0.90        15\n",
      "         2.0       0.88      0.93      0.90        15\n",
      "\n",
      "    accuracy                           0.93        45\n",
      "   macro avg       0.93      0.93      0.93        45\n",
      "weighted avg       0.93      0.93      0.93        45\n",
      "\n"
     ]
    }
   ],
   "source": [
    "from sklearn.metrics import classification_report\n",
    "\n",
    "print(classification_report(y_test , y_pred))"
   ]
  },
  {
   "cell_type": "code",
   "execution_count": 14,
   "metadata": {},
   "outputs": [
    {
     "name": "stdout",
     "output_type": "stream",
     "text": [
      "Input - [4.9 2.5 4.5 1.7]\n",
      "Predicted -  1.0\n",
      "True - 2.0\n",
      "Input - [6.3 2.5 4.9 1.5]\n",
      "Predicted -  2.0\n",
      "True - 1.0\n",
      "Input - [6.  2.7 5.1 1.6]\n",
      "Predicted -  2.0\n",
      "True - 1.0\n"
     ]
    }
   ],
   "source": [
    "# Wrong Predicted \n",
    "for i in range(X_test.shape[0]):\n",
    "    if y_pred[i] != y_test[i] : \n",
    "        print('Input -' , X_test[i])\n",
    "        print('Predicted - ', y_pred[i])\n",
    "        print('True -', y_test[i])"
   ]
  },
  {
   "cell_type": "code",
   "execution_count": 15,
   "metadata": {},
   "outputs": [
    {
     "name": "stdout",
     "output_type": "stream",
     "text": [
      "Input - [7.6 3.  6.6 2.1]\n",
      "Predicted -  2.0\n",
      "True - 2.0\n",
      "Input - [6.9 3.2 5.7 2.3]\n",
      "Predicted -  2.0\n",
      "True - 2.0\n",
      "Input - [5.7 4.4 1.5 0.4]\n",
      "Predicted -  0.0\n",
      "True - 0.0\n",
      "Input - [6.7 3.1 4.7 1.5]\n",
      "Predicted -  1.0\n",
      "True - 1.0\n",
      "Input - [6.2 2.2 4.5 1.5]\n",
      "Predicted -  1.0\n",
      "True - 1.0\n",
      "Input - [5.  3.2 1.2 0.2]\n",
      "Predicted -  0.0\n",
      "True - 0.0\n",
      "Input - [6.4 3.2 4.5 1.5]\n",
      "Predicted -  1.0\n",
      "True - 1.0\n",
      "Input - [5.1 2.5 3.  1.1]\n",
      "Predicted -  1.0\n",
      "True - 1.0\n",
      "Input - [6.8 3.  5.5 2.1]\n",
      "Predicted -  2.0\n",
      "True - 2.0\n",
      "Input - [4.9 3.1 1.5 0.1]\n",
      "Predicted -  0.0\n",
      "True - 0.0\n",
      "Input - [5.4 3.4 1.7 0.2]\n",
      "Predicted -  0.0\n",
      "True - 0.0\n",
      "Input - [4.9 2.4 3.3 1. ]\n",
      "Predicted -  1.0\n",
      "True - 1.0\n",
      "Input - [6.9 3.1 5.1 2.3]\n",
      "Predicted -  2.0\n",
      "True - 2.0\n",
      "Input - [6.4 2.8 5.6 2.1]\n",
      "Predicted -  2.0\n",
      "True - 2.0\n",
      "Input - [5.5 4.2 1.4 0.2]\n",
      "Predicted -  0.0\n",
      "True - 0.0\n",
      "Input - [6.1 3.  4.9 1.8]\n",
      "Predicted -  2.0\n",
      "True - 2.0\n",
      "Input - [4.4 3.2 1.3 0.2]\n",
      "Predicted -  0.0\n",
      "True - 0.0\n",
      "Input - [6.7 3.  5.2 2.3]\n",
      "Predicted -  2.0\n",
      "True - 2.0\n",
      "Input - [6.  3.4 4.5 1.6]\n",
      "Predicted -  1.0\n",
      "True - 1.0\n",
      "Input - [5.4 3.7 1.5 0.2]\n",
      "Predicted -  0.0\n",
      "True - 0.0\n",
      "Input - [4.9 3.  1.4 0.2]\n",
      "Predicted -  0.0\n",
      "True - 0.0\n",
      "Input - [5.  3.6 1.4 0.2]\n",
      "Predicted -  0.0\n",
      "True - 0.0\n",
      "Input - [7.7 3.8 6.7 2.2]\n",
      "Predicted -  2.0\n",
      "True - 2.0\n",
      "Input - [6.  2.2 4.  1. ]\n",
      "Predicted -  1.0\n",
      "True - 1.0\n",
      "Input - [5.4 3.9 1.3 0.4]\n",
      "Predicted -  0.0\n",
      "True - 0.0\n",
      "Input - [5.  3.4 1.6 0.4]\n",
      "Predicted -  0.0\n",
      "True - 0.0\n",
      "Input - [5.9 3.  4.2 1.5]\n",
      "Predicted -  1.0\n",
      "True - 1.0\n",
      "Input - [5.  2.3 3.3 1. ]\n",
      "Predicted -  1.0\n",
      "True - 1.0\n",
      "Input - [5.5 2.3 4.  1.3]\n",
      "Predicted -  1.0\n",
      "True - 1.0\n",
      "Input - [7.7 2.6 6.9 2.3]\n",
      "Predicted -  2.0\n",
      "True - 2.0\n",
      "Input - [5.6 2.8 4.9 2. ]\n",
      "Predicted -  2.0\n",
      "True - 2.0\n",
      "Input - [6.1 3.  4.6 1.4]\n",
      "Predicted -  1.0\n",
      "True - 1.0\n",
      "Input - [6.1 2.8 4.  1.3]\n",
      "Predicted -  1.0\n",
      "True - 1.0\n",
      "Input - [4.8 3.  1.4 0.3]\n",
      "Predicted -  0.0\n",
      "True - 0.0\n",
      "Input - [5.  3.  1.6 0.2]\n",
      "Predicted -  0.0\n",
      "True - 0.0\n",
      "Input - [6.  3.  4.8 1.8]\n",
      "Predicted -  2.0\n",
      "True - 2.0\n",
      "Input - [4.8 3.4 1.6 0.2]\n",
      "Predicted -  0.0\n",
      "True - 0.0\n",
      "Input - [6.1 2.6 5.6 1.4]\n",
      "Predicted -  2.0\n",
      "True - 2.0\n",
      "Input - [5.8 2.7 5.1 1.9]\n",
      "Predicted -  2.0\n",
      "True - 2.0\n",
      "Input - [4.3 3.  1.1 0.1]\n",
      "Predicted -  0.0\n",
      "True - 0.0\n",
      "Input - [6.4 2.9 4.3 1.3]\n",
      "Predicted -  1.0\n",
      "True - 1.0\n",
      "Input - [5.8 2.8 5.1 2.4]\n",
      "Predicted -  2.0\n",
      "True - 2.0\n"
     ]
    }
   ],
   "source": [
    "# True Predicted \n",
    "for i in range(X_test.shape[0]):\n",
    "    if y_pred[i] == y_test[i] : \n",
    "        print('Input -' , X_test[i])\n",
    "        print('Predicted - ', y_pred[i])\n",
    "        print('True -', y_test[i])"
   ]
  },
  {
   "cell_type": "code",
   "execution_count": null,
   "metadata": {},
   "outputs": [],
   "source": []
  }
 ],
 "metadata": {
  "kernelspec": {
   "display_name": "Python 3",
   "language": "python",
   "name": "python3"
  },
  "language_info": {
   "codemirror_mode": {
    "name": "ipython",
    "version": 3
   },
   "file_extension": ".py",
   "mimetype": "text/x-python",
   "name": "python",
   "nbconvert_exporter": "python",
   "pygments_lexer": "ipython3",
   "version": "3.8.1"
  }
 },
 "nbformat": 4,
 "nbformat_minor": 4
}
